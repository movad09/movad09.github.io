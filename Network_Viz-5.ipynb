{
 "cells": [
  {
   "cell_type": "markdown",
   "metadata": {},
   "source": [
    "Xiaohan Pei\n",
    "Sukey Xu\n",
    "Mounica Vaddadi "
   ]
  },
  {
   "cell_type": "code",
   "execution_count": 32,
   "metadata": {},
   "outputs": [],
   "source": [
    "import numpy as np\n",
    "import json\n",
    "import bqplot"
   ]
  },
  {
   "cell_type": "code",
   "execution_count": 33,
   "metadata": {},
   "outputs": [],
   "source": [
    "characters = json.load(open('shared/sp18-is590dv/data/star_wars/people.json'))"
   ]
  },
  {
   "cell_type": "code",
   "execution_count": 34,
   "metadata": {},
   "outputs": [],
   "source": [
    "chars = [\"Boba Fett\", \"Yoda\", \"Jabba Desilijic Tiure\", \"Darth Vader\", \"Obi-Wan Kenobi\",\n",
    "         \"Beru Whitesun lars\", \"Mon Mothma\"]"
   ]
  },
  {
   "cell_type": "code",
   "execution_count": 35,
   "metadata": {},
   "outputs": [],
   "source": [
    "films = json.load(open(\"shared/sp18-is590dv/data/star_wars/films.json\"))"
   ]
  },
  {
   "cell_type": "code",
   "execution_count": 36,
   "metadata": {},
   "outputs": [],
   "source": [
    "char_input = json.load(open(\"shared/sp18-is590dv/data/star_wars/people.json\"))\n",
    "characters = {}\n",
    "for character in char_input:\n",
    "    characters[character['pk']] = character['fields']"
   ]
  },
  {
   "cell_type": "code",
   "execution_count": 37,
   "metadata": {
    "scrolled": false
   },
   "outputs": [
    {
     "data": {
      "text/plain": [
       "[{'A New Hope': ['Darth Vader',\n",
       "   'Beru Whitesun lars',\n",
       "   'Obi-Wan Kenobi',\n",
       "   'Jabba Desilijic Tiure']},\n",
       " {'The Empire Strikes Back': ['Darth Vader',\n",
       "   'Obi-Wan Kenobi',\n",
       "   'Yoda',\n",
       "   'Boba Fett']},\n",
       " {'Return of the Jedi': ['Darth Vader',\n",
       "   'Obi-Wan Kenobi',\n",
       "   'Jabba Desilijic Tiure',\n",
       "   'Yoda',\n",
       "   'Boba Fett',\n",
       "   'Mon Mothma']},\n",
       " {'The Phantom Menace': ['Obi-Wan Kenobi', 'Jabba Desilijic Tiure', 'Yoda']},\n",
       " {'Attack of the Clones': ['Beru Whitesun lars',\n",
       "   'Obi-Wan Kenobi',\n",
       "   'Yoda',\n",
       "   'Boba Fett']},\n",
       " {'Revenge of the Sith': ['Darth Vader',\n",
       "   'Beru Whitesun lars',\n",
       "   'Obi-Wan Kenobi',\n",
       "   'Yoda']}]"
      ]
     },
     "execution_count": 37,
     "metadata": {},
     "output_type": "execute_result"
    }
   ],
   "source": [
    "film_info = []\n",
    "film_names = []\n",
    "for film in films:\n",
    "    film_in = {}\n",
    "    \n",
    "    film_name = film[\"fields\"][\"title\"]\n",
    "    \n",
    "    char = []\n",
    "    for character in film[\"fields\"][\"characters\"]:\n",
    "        if characters[character][\"name\"] in chars:\n",
    "            char.append(characters[character][\"name\"])\n",
    "    film_in[film_name] = char\n",
    "    film_names.append(film_name)\n",
    "    film_info.append(film_in)\n",
    "film_info\n"
   ]
  },
  {
   "cell_type": "code",
   "execution_count": 38,
   "metadata": {},
   "outputs": [
    {
     "data": {
      "text/plain": [
       "['A New Hope',\n",
       " 'The Empire Strikes Back',\n",
       " 'Return of the Jedi',\n",
       " 'The Phantom Menace',\n",
       " 'Attack of the Clones',\n",
       " 'Revenge of the Sith']"
      ]
     },
     "execution_count": 38,
     "metadata": {},
     "output_type": "execute_result"
    }
   ],
   "source": [
    "film_names"
   ]
  },
  {
   "cell_type": "code",
   "execution_count": 39,
   "metadata": {},
   "outputs": [
    {
     "name": "stdout",
     "output_type": "stream",
     "text": [
      "A New Hope\n",
      "Darth Vader\n",
      "Beru Whitesun lars\n",
      "Obi-Wan Kenobi\n",
      "Jabba Desilijic Tiure\n",
      "\n",
      "The Empire Strikes Back\n",
      "Darth Vader\n",
      "Obi-Wan Kenobi\n",
      "Yoda\n",
      "Boba Fett\n",
      "\n",
      "Return of the Jedi\n",
      "Darth Vader\n",
      "Obi-Wan Kenobi\n",
      "Jabba Desilijic Tiure\n",
      "Yoda\n",
      "Boba Fett\n",
      "Mon Mothma\n",
      "\n",
      "The Phantom Menace\n",
      "Obi-Wan Kenobi\n",
      "Jabba Desilijic Tiure\n",
      "Yoda\n",
      "\n",
      "Attack of the Clones\n",
      "Beru Whitesun lars\n",
      "Obi-Wan Kenobi\n",
      "Yoda\n",
      "Boba Fett\n",
      "\n",
      "Revenge of the Sith\n",
      "Darth Vader\n",
      "Beru Whitesun lars\n",
      "Obi-Wan Kenobi\n",
      "Yoda\n",
      "\n"
     ]
    }
   ],
   "source": [
    "for film in films:\n",
    "    film_chars = film[\"fields\"][\"characters\"]\n",
    "    print(film[\"fields\"][\"title\"])\n",
    "    for character in film_chars:\n",
    "        if characters[character][\"name\"] in chars: print(characters[character][\"name\"])\n",
    "    print()\n",
    "    "
   ]
  },
  {
   "cell_type": "code",
   "execution_count": 40,
   "metadata": {},
   "outputs": [
    {
     "data": {
      "text/plain": [
       "[{'label': 'Boba Fett',\n",
       "  'name': 'Boba Fett',\n",
       "  'movies': 'The Empire Strikes Back, Return of the Jedi, Attack of the Clones',\n",
       "  'shape': 'circle'},\n",
       " {'label': 'Yoda',\n",
       "  'name': 'Yoda',\n",
       "  'movies': 'The Empire Strikes Back, Return of the Jedi, The Phantom Menace, Attack of the Clones, Revenge of the Sith',\n",
       "  'shape': 'circle'},\n",
       " {'label': 'Jabba Desilijic Tiure',\n",
       "  'name': 'Jabba Desilijic Tiure',\n",
       "  'movies': 'A New Hope, Return of the Jedi, The Phantom Menace',\n",
       "  'shape': 'circle'},\n",
       " {'label': 'Darth Vader',\n",
       "  'name': 'Darth Vader',\n",
       "  'movies': 'A New Hope, The Empire Strikes Back, Return of the Jedi, Revenge of the Sith',\n",
       "  'shape': 'circle'},\n",
       " {'label': 'Obi-Wan Kenobi',\n",
       "  'name': 'Obi-Wan Kenobi',\n",
       "  'movies': 'A New Hope, The Empire Strikes Back, Return of the Jedi, The Phantom Menace, Attack of the Clones, Revenge of the Sith',\n",
       "  'shape': 'circle'},\n",
       " {'label': 'Beru Whitesun lars',\n",
       "  'name': 'Beru Whitesun lars',\n",
       "  'movies': 'A New Hope, Attack of the Clones, Revenge of the Sith',\n",
       "  'shape': 'circle'},\n",
       " {'label': 'Mon Mothma',\n",
       "  'name': 'Mon Mothma',\n",
       "  'movies': 'Return of the Jedi',\n",
       "  'shape': 'circle'}]"
      ]
     },
     "execution_count": 40,
     "metadata": {},
     "output_type": "execute_result"
    }
   ],
   "source": [
    "node_data = []\n",
    "for char in chars:\n",
    "    node_char = {}\n",
    "    node_char['label'] = char\n",
    "    node_char['name'] = char\n",
    "    char_films = []\n",
    "    for film_in in film_info:\n",
    "        if char in list(film_in.values())[0]:\n",
    "            char_films.append(list(film_in.keys())[0])\n",
    "    node_char['movies'] = ', '.join(char_films)\n",
    "    node_char['shape'] = 'circle'\n",
    "    node_data.append(node_char)\n",
    "node_data"
   ]
  },
  {
   "cell_type": "code",
   "execution_count": 41,
   "metadata": {},
   "outputs": [
    {
     "data": {
      "text/plain": [
       "'A New Hope'"
      ]
     },
     "execution_count": 41,
     "metadata": {},
     "output_type": "execute_result"
    }
   ],
   "source": [
    "list(film_info[0].keys())[0]"
   ]
  },
  {
   "cell_type": "code",
   "execution_count": 42,
   "metadata": {},
   "outputs": [],
   "source": [
    "link_data = []\n",
    "for film_in in film_info:\n",
    "    char_list = list(film_in.values())[0]\n",
    "    for char in char_list:\n",
    "        for link_char in char_list:\n",
    "            if link_char != char:\n",
    "                link_dict = {}\n",
    "                link_dict['source'] = chars.index(char)\n",
    "                link_dict['target'] = chars.index(link_char)\n",
    "                link_data.append(link_dict)"
   ]
  },
  {
   "cell_type": "code",
   "execution_count": 43,
   "metadata": {},
   "outputs": [
    {
     "data": {
      "text/plain": [
       "[{'source': 3, 'target': 5},\n",
       " {'source': 3, 'target': 4},\n",
       " {'source': 3, 'target': 2},\n",
       " {'source': 5, 'target': 3},\n",
       " {'source': 5, 'target': 4},\n",
       " {'source': 5, 'target': 2},\n",
       " {'source': 4, 'target': 3},\n",
       " {'source': 4, 'target': 5},\n",
       " {'source': 4, 'target': 2},\n",
       " {'source': 2, 'target': 3},\n",
       " {'source': 2, 'target': 5},\n",
       " {'source': 2, 'target': 4},\n",
       " {'source': 3, 'target': 4},\n",
       " {'source': 3, 'target': 1},\n",
       " {'source': 3, 'target': 0},\n",
       " {'source': 4, 'target': 3},\n",
       " {'source': 4, 'target': 1},\n",
       " {'source': 4, 'target': 0},\n",
       " {'source': 1, 'target': 3},\n",
       " {'source': 1, 'target': 4},\n",
       " {'source': 1, 'target': 0},\n",
       " {'source': 0, 'target': 3},\n",
       " {'source': 0, 'target': 4},\n",
       " {'source': 0, 'target': 1},\n",
       " {'source': 3, 'target': 4},\n",
       " {'source': 3, 'target': 2},\n",
       " {'source': 3, 'target': 1},\n",
       " {'source': 3, 'target': 0},\n",
       " {'source': 3, 'target': 6},\n",
       " {'source': 4, 'target': 3},\n",
       " {'source': 4, 'target': 2},\n",
       " {'source': 4, 'target': 1},\n",
       " {'source': 4, 'target': 0},\n",
       " {'source': 4, 'target': 6},\n",
       " {'source': 2, 'target': 3},\n",
       " {'source': 2, 'target': 4},\n",
       " {'source': 2, 'target': 1},\n",
       " {'source': 2, 'target': 0},\n",
       " {'source': 2, 'target': 6},\n",
       " {'source': 1, 'target': 3},\n",
       " {'source': 1, 'target': 4},\n",
       " {'source': 1, 'target': 2},\n",
       " {'source': 1, 'target': 0},\n",
       " {'source': 1, 'target': 6},\n",
       " {'source': 0, 'target': 3},\n",
       " {'source': 0, 'target': 4},\n",
       " {'source': 0, 'target': 2},\n",
       " {'source': 0, 'target': 1},\n",
       " {'source': 0, 'target': 6},\n",
       " {'source': 6, 'target': 3},\n",
       " {'source': 6, 'target': 4},\n",
       " {'source': 6, 'target': 2},\n",
       " {'source': 6, 'target': 1},\n",
       " {'source': 6, 'target': 0},\n",
       " {'source': 4, 'target': 2},\n",
       " {'source': 4, 'target': 1},\n",
       " {'source': 2, 'target': 4},\n",
       " {'source': 2, 'target': 1},\n",
       " {'source': 1, 'target': 4},\n",
       " {'source': 1, 'target': 2},\n",
       " {'source': 5, 'target': 4},\n",
       " {'source': 5, 'target': 1},\n",
       " {'source': 5, 'target': 0},\n",
       " {'source': 4, 'target': 5},\n",
       " {'source': 4, 'target': 1},\n",
       " {'source': 4, 'target': 0},\n",
       " {'source': 1, 'target': 5},\n",
       " {'source': 1, 'target': 4},\n",
       " {'source': 1, 'target': 0},\n",
       " {'source': 0, 'target': 5},\n",
       " {'source': 0, 'target': 4},\n",
       " {'source': 0, 'target': 1},\n",
       " {'source': 3, 'target': 5},\n",
       " {'source': 3, 'target': 4},\n",
       " {'source': 3, 'target': 1},\n",
       " {'source': 5, 'target': 3},\n",
       " {'source': 5, 'target': 4},\n",
       " {'source': 5, 'target': 1},\n",
       " {'source': 4, 'target': 3},\n",
       " {'source': 4, 'target': 5},\n",
       " {'source': 4, 'target': 1},\n",
       " {'source': 1, 'target': 3},\n",
       " {'source': 1, 'target': 5},\n",
       " {'source': 1, 'target': 4}]"
      ]
     },
     "execution_count": 43,
     "metadata": {},
     "output_type": "execute_result"
    }
   ],
   "source": [
    "link_data"
   ]
  },
  {
   "cell_type": "code",
   "execution_count": 44,
   "metadata": {},
   "outputs": [
    {
     "data": {
      "text/plain": [
       "[{'source': 3, 'target': 5},\n",
       " {'source': 3, 'target': 4},\n",
       " {'source': 3, 'target': 2},\n",
       " {'source': 5, 'target': 3},\n",
       " {'source': 5, 'target': 4},\n",
       " {'source': 5, 'target': 2},\n",
       " {'source': 4, 'target': 3},\n",
       " {'source': 4, 'target': 5},\n",
       " {'source': 4, 'target': 2},\n",
       " {'source': 2, 'target': 3},\n",
       " {'source': 2, 'target': 5},\n",
       " {'source': 2, 'target': 4},\n",
       " {'source': 3, 'target': 1},\n",
       " {'source': 3, 'target': 0},\n",
       " {'source': 4, 'target': 1},\n",
       " {'source': 4, 'target': 0},\n",
       " {'source': 1, 'target': 3},\n",
       " {'source': 1, 'target': 4},\n",
       " {'source': 1, 'target': 0},\n",
       " {'source': 0, 'target': 3},\n",
       " {'source': 0, 'target': 4},\n",
       " {'source': 0, 'target': 1},\n",
       " {'source': 3, 'target': 6},\n",
       " {'source': 4, 'target': 6},\n",
       " {'source': 2, 'target': 1},\n",
       " {'source': 2, 'target': 0},\n",
       " {'source': 2, 'target': 6},\n",
       " {'source': 1, 'target': 2},\n",
       " {'source': 1, 'target': 6},\n",
       " {'source': 0, 'target': 2},\n",
       " {'source': 0, 'target': 6},\n",
       " {'source': 6, 'target': 3},\n",
       " {'source': 6, 'target': 4},\n",
       " {'source': 6, 'target': 2},\n",
       " {'source': 6, 'target': 1},\n",
       " {'source': 6, 'target': 0},\n",
       " {'source': 5, 'target': 1},\n",
       " {'source': 5, 'target': 0},\n",
       " {'source': 1, 'target': 5},\n",
       " {'source': 0, 'target': 5}]"
      ]
     },
     "execution_count": 44,
     "metadata": {},
     "output_type": "execute_result"
    }
   ],
   "source": [
    "link_data1 = []\n",
    "for link in link_data:\n",
    "    if link not in link_data1:\n",
    "        link_data1.append(link)\n",
    "link_data = link_data1\n",
    "link_data"
   ]
  },
  {
   "cell_type": "code",
   "execution_count": 45,
   "metadata": {},
   "outputs": [
    {
     "data": {
      "application/vnd.jupyter.widget-view+json": {
       "model_id": "7bc11d2986a945c1aac8363ec09f48ec",
       "version_major": 2,
       "version_minor": 0
      },
      "text/plain": [
       "Figure(fig_margin={'top': 30, 'bottom': 30, 'left': 30, 'right': 30}, layout=Layout(min_width='125px'), marks=…"
      ]
     },
     "metadata": {},
     "output_type": "display_data"
    }
   ],
   "source": [
    "tooltip = bqplot.Tooltip(fields=[\"name\",'movies'])\n",
    "\n",
    "graph = bqplot.Graph(node_data=node_data, link_data=link_data, tooltip = tooltip, link_type = 'line', link_distance = 150,charge= -200)\n",
    "\n",
    "fig = bqplot.Figure(marks = [graph])\n",
    "display(fig)"
   ]
  },
  {
   "cell_type": "code",
   "execution_count": null,
   "metadata": {},
   "outputs": [],
   "source": [
    "#end"
   ]
  },
  {
   "cell_type": "code",
   "execution_count": null,
   "metadata": {},
   "outputs": [],
   "source": []
  }
 ],
 "metadata": {
  "kernelspec": {
   "display_name": "Environment (conda_is590dv-default)",
   "language": "python",
   "name": "conda_is590dv-default"
  },
  "language_info": {
   "codemirror_mode": {
    "name": "ipython",
    "version": 3
   },
   "file_extension": ".py",
   "mimetype": "text/x-python",
   "name": "python",
   "nbconvert_exporter": "python",
   "pygments_lexer": "ipython3",
   "version": "3.6.6"
  },
  "widgets": {
   "application/vnd.jupyter.widget-state+json": {
    "state": {
     "025e940765b8438ca82f763f5bfc6525": {
      "model_module": "bqplot",
      "model_module_version": "^0.4.1",
      "model_name": "LinearScaleModel",
      "state": {
       "_model_module_version": "^0.4.1",
       "_view_module_version": "^0.4.1",
       "allow_padding": false,
       "max": 1,
       "min": 0,
       "stabilized": false
      }
     },
     "03606f72d1ef4225a96808052a2a6fc1": {
      "model_module": "bqplot",
      "model_module_version": "^0.4.1",
      "model_name": "FigureModel",
      "state": {
       "_dom_classes": [],
       "_model_module_version": "^0.4.1",
       "_view_module_version": "^0.4.1",
       "layout": "IPY_MODEL_fc29df730a0c4ec7ae09245e69152427",
       "marks": [
        "IPY_MODEL_70cae60678294566bbd085b6822358ae"
       ],
       "scale_x": "IPY_MODEL_025e940765b8438ca82f763f5bfc6525",
       "scale_y": "IPY_MODEL_4bf9427e59e9415eb80c5d399d230928"
      }
     },
     "0cef0f9d28024f2f999b4dfefcca249a": {
      "model_module": "@jupyter-widgets/base",
      "model_module_version": "1.1.0",
      "model_name": "LayoutModel",
      "state": {
       "min_width": "125px"
      }
     },
     "186562faf17d4d25a6e3dc50fc181781": {
      "model_module": "@jupyter-widgets/base",
      "model_module_version": "1.1.0",
      "model_name": "LayoutModel",
      "state": {}
     },
     "21d110377c814c56ad8a3438be5ebe49": {
      "model_module": "bqplot",
      "model_module_version": "^0.4.1",
      "model_name": "GraphModel",
      "state": {
       "_model_module": "bqplot",
       "_model_module_version": "^0.4.1",
       "_view_count": null,
       "_view_module": "bqplot",
       "_view_module_version": "^0.4.1",
       "apply_clip": true,
       "charge": -200,
       "color": {
        "type": null,
        "values": null
       },
       "colors": [
        "#1f77b4",
        "#ff7f0e",
        "#2ca02c",
        "#d62728",
        "#9467bd",
        "#8c564b",
        "#e377c2",
        "#7f7f7f",
        "#bcbd22",
        "#17becf"
       ],
       "directed": true,
       "display_legend": false,
       "enable_hover": true,
       "highlight_links": true,
       "hovered_style": {},
       "interactions": {
        "click": "select",
        "hover": "tooltip"
       },
       "labels": [],
       "link_color": {
        "type": "float",
        "values": []
       },
       "link_data": [
        {
         "source": {
          "index": 3,
          "label": "Darth Vader",
          "label_display": "center",
          "movies": "A New Hope, The Empire Strikes Back, Return of the Jedi, Revenge of the Sith",
          "name": "Darth Vader",
          "px": 271.43143447956754,
          "py": 323.5241940602424,
          "shape": "circle",
          "shape_attrs": {
           "r": 15
          },
          "value": null,
          "weight": 12,
          "x": 271.4064367209113,
          "y": 323.5524433962158
         },
         "target": {
          "index": 5,
          "label": "Beru Whitesun lars",
          "label_display": "center",
          "movies": "A New Hope, Attack of the Clones, Revenge of the Sith",
          "name": "Beru Whitesun lars",
          "px": 196.82465855110695,
          "py": 233.86900720770262,
          "shape": "circle",
          "shape_attrs": {
           "r": 15
          },
          "value": null,
          "weight": 10,
          "x": 196.79310108294155,
          "y": 233.8662635242326
         }
        },
        {
         "source": {
          "index": 3,
          "label": "Darth Vader",
          "label_display": "center",
          "movies": "A New Hope, The Empire Strikes Back, Return of the Jedi, Revenge of the Sith",
          "name": "Darth Vader",
          "px": 271.43143447956754,
          "py": 323.5241940602424,
          "shape": "circle",
          "shape_attrs": {
           "r": 15
          },
          "value": null,
          "weight": 12,
          "x": 271.4064367209113,
          "y": 323.5524433962158
         },
         "target": {
          "index": 4,
          "label": "Obi-Wan Kenobi",
          "label_display": "center",
          "movies": "A New Hope, The Empire Strikes Back, Return of the Jedi, The Phantom Menace, Attack of the Clones, Revenge of the Sith",
          "name": "Obi-Wan Kenobi",
          "px": 367.74441096608234,
          "py": 320.4344757323949,
          "shape": "circle",
          "shape_attrs": {
           "r": 15
          },
          "value": null,
          "weight": 12,
          "x": 367.75512979192,
          "y": 320.46895349815986
         }
        },
        {
         "source": {
          "index": 3,
          "label": "Darth Vader",
          "label_display": "center",
          "movies": "A New Hope, The Empire Strikes Back, Return of the Jedi, Revenge of the Sith",
          "name": "Darth Vader",
          "px": 271.43143447956754,
          "py": 323.5241940602424,
          "shape": "circle",
          "shape_attrs": {
           "r": 15
          },
          "value": null,
          "weight": 12,
          "x": 271.4064367209113,
          "y": 323.5524433962158
         },
         "target": {
          "index": 2,
          "label": "Jabba Desilijic Tiure",
          "label_display": "center",
          "movies": "A New Hope, Return of the Jedi, The Phantom Menace",
          "name": "Jabba Desilijic Tiure",
          "px": 309.4211794410367,
          "py": 238.80141778211146,
          "shape": "circle",
          "shape_attrs": {
           "r": 15
          },
          "value": null,
          "weight": 12,
          "x": 309.43688517286677,
          "y": 238.80659891304677
         }
        },
        {
         "source": {
          "index": 5,
          "label": "Beru Whitesun lars",
          "label_display": "center",
          "movies": "A New Hope, Attack of the Clones, Revenge of the Sith",
          "name": "Beru Whitesun lars",
          "px": 196.82465855110695,
          "py": 233.86900720770262,
          "shape": "circle",
          "shape_attrs": {
           "r": 15
          },
          "value": null,
          "weight": 10,
          "x": 196.79310108294155,
          "y": 233.8662635242326
         },
         "target": {
          "index": 3,
          "label": "Darth Vader",
          "label_display": "center",
          "movies": "A New Hope, The Empire Strikes Back, Return of the Jedi, Revenge of the Sith",
          "name": "Darth Vader",
          "px": 271.43143447956754,
          "py": 323.5241940602424,
          "shape": "circle",
          "shape_attrs": {
           "r": 15
          },
          "value": null,
          "weight": 12,
          "x": 271.4064367209113,
          "y": 323.5524433962158
         }
        },
        {
         "source": {
          "index": 5,
          "label": "Beru Whitesun lars",
          "label_display": "center",
          "movies": "A New Hope, Attack of the Clones, Revenge of the Sith",
          "name": "Beru Whitesun lars",
          "px": 196.82465855110695,
          "py": 233.86900720770262,
          "shape": "circle",
          "shape_attrs": {
           "r": 15
          },
          "value": null,
          "weight": 10,
          "x": 196.79310108294155,
          "y": 233.8662635242326
         },
         "target": {
          "index": 4,
          "label": "Obi-Wan Kenobi",
          "label_display": "center",
          "movies": "A New Hope, The Empire Strikes Back, Return of the Jedi, The Phantom Menace, Attack of the Clones, Revenge of the Sith",
          "name": "Obi-Wan Kenobi",
          "px": 367.74441096608234,
          "py": 320.4344757323949,
          "shape": "circle",
          "shape_attrs": {
           "r": 15
          },
          "value": null,
          "weight": 12,
          "x": 367.75512979192,
          "y": 320.46895349815986
         }
        },
        {
         "source": {
          "index": 5,
          "label": "Beru Whitesun lars",
          "label_display": "center",
          "movies": "A New Hope, Attack of the Clones, Revenge of the Sith",
          "name": "Beru Whitesun lars",
          "px": 196.82465855110695,
          "py": 233.86900720770262,
          "shape": "circle",
          "shape_attrs": {
           "r": 15
          },
          "value": null,
          "weight": 10,
          "x": 196.79310108294155,
          "y": 233.8662635242326
         },
         "target": {
          "index": 2,
          "label": "Jabba Desilijic Tiure",
          "label_display": "center",
          "movies": "A New Hope, Return of the Jedi, The Phantom Menace",
          "name": "Jabba Desilijic Tiure",
          "px": 309.4211794410367,
          "py": 238.80141778211146,
          "shape": "circle",
          "shape_attrs": {
           "r": 15
          },
          "value": null,
          "weight": 12,
          "x": 309.43688517286677,
          "y": 238.80659891304677
         }
        },
        {
         "source": {
          "index": 4,
          "label": "Obi-Wan Kenobi",
          "label_display": "center",
          "movies": "A New Hope, The Empire Strikes Back, Return of the Jedi, The Phantom Menace, Attack of the Clones, Revenge of the Sith",
          "name": "Obi-Wan Kenobi",
          "px": 367.74441096608234,
          "py": 320.4344757323949,
          "shape": "circle",
          "shape_attrs": {
           "r": 15
          },
          "value": null,
          "weight": 12,
          "x": 367.75512979192,
          "y": 320.46895349815986
         },
         "target": {
          "index": 3,
          "label": "Darth Vader",
          "label_display": "center",
          "movies": "A New Hope, The Empire Strikes Back, Return of the Jedi, Revenge of the Sith",
          "name": "Darth Vader",
          "px": 271.43143447956754,
          "py": 323.5241940602424,
          "shape": "circle",
          "shape_attrs": {
           "r": 15
          },
          "value": null,
          "weight": 12,
          "x": 271.4064367209113,
          "y": 323.5524433962158
         }
        },
        {
         "source": {
          "index": 4,
          "label": "Obi-Wan Kenobi",
          "label_display": "center",
          "movies": "A New Hope, The Empire Strikes Back, Return of the Jedi, The Phantom Menace, Attack of the Clones, Revenge of the Sith",
          "name": "Obi-Wan Kenobi",
          "px": 367.74441096608234,
          "py": 320.4344757323949,
          "shape": "circle",
          "shape_attrs": {
           "r": 15
          },
          "value": null,
          "weight": 12,
          "x": 367.75512979192,
          "y": 320.46895349815986
         },
         "target": {
          "index": 5,
          "label": "Beru Whitesun lars",
          "label_display": "center",
          "movies": "A New Hope, Attack of the Clones, Revenge of the Sith",
          "name": "Beru Whitesun lars",
          "px": 196.82465855110695,
          "py": 233.86900720770262,
          "shape": "circle",
          "shape_attrs": {
           "r": 15
          },
          "value": null,
          "weight": 10,
          "x": 196.79310108294155,
          "y": 233.8662635242326
         }
        },
        {
         "source": {
          "index": 4,
          "label": "Obi-Wan Kenobi",
          "label_display": "center",
          "movies": "A New Hope, The Empire Strikes Back, Return of the Jedi, The Phantom Menace, Attack of the Clones, Revenge of the Sith",
          "name": "Obi-Wan Kenobi",
          "px": 367.74441096608234,
          "py": 320.4344757323949,
          "shape": "circle",
          "shape_attrs": {
           "r": 15
          },
          "value": null,
          "weight": 12,
          "x": 367.75512979192,
          "y": 320.46895349815986
         },
         "target": {
          "index": 2,
          "label": "Jabba Desilijic Tiure",
          "label_display": "center",
          "movies": "A New Hope, Return of the Jedi, The Phantom Menace",
          "name": "Jabba Desilijic Tiure",
          "px": 309.4211794410367,
          "py": 238.80141778211146,
          "shape": "circle",
          "shape_attrs": {
           "r": 15
          },
          "value": null,
          "weight": 12,
          "x": 309.43688517286677,
          "y": 238.80659891304677
         }
        },
        {
         "source": {
          "index": 2,
          "label": "Jabba Desilijic Tiure",
          "label_display": "center",
          "movies": "A New Hope, Return of the Jedi, The Phantom Menace",
          "name": "Jabba Desilijic Tiure",
          "px": 309.4211794410367,
          "py": 238.80141778211146,
          "shape": "circle",
          "shape_attrs": {
           "r": 15
          },
          "value": null,
          "weight": 12,
          "x": 309.43688517286677,
          "y": 238.80659891304677
         },
         "target": {
          "index": 3,
          "label": "Darth Vader",
          "label_display": "center",
          "movies": "A New Hope, The Empire Strikes Back, Return of the Jedi, Revenge of the Sith",
          "name": "Darth Vader",
          "px": 271.43143447956754,
          "py": 323.5241940602424,
          "shape": "circle",
          "shape_attrs": {
           "r": 15
          },
          "value": null,
          "weight": 12,
          "x": 271.4064367209113,
          "y": 323.5524433962158
         }
        },
        {
         "source": {
          "index": 2,
          "label": "Jabba Desilijic Tiure",
          "label_display": "center",
          "movies": "A New Hope, Return of the Jedi, The Phantom Menace",
          "name": "Jabba Desilijic Tiure",
          "px": 309.4211794410367,
          "py": 238.80141778211146,
          "shape": "circle",
          "shape_attrs": {
           "r": 15
          },
          "value": null,
          "weight": 12,
          "x": 309.43688517286677,
          "y": 238.80659891304677
         },
         "target": {
          "index": 5,
          "label": "Beru Whitesun lars",
          "label_display": "center",
          "movies": "A New Hope, Attack of the Clones, Revenge of the Sith",
          "name": "Beru Whitesun lars",
          "px": 196.82465855110695,
          "py": 233.86900720770262,
          "shape": "circle",
          "shape_attrs": {
           "r": 15
          },
          "value": null,
          "weight": 10,
          "x": 196.79310108294155,
          "y": 233.8662635242326
         }
        },
        {
         "source": {
          "index": 2,
          "label": "Jabba Desilijic Tiure",
          "label_display": "center",
          "movies": "A New Hope, Return of the Jedi, The Phantom Menace",
          "name": "Jabba Desilijic Tiure",
          "px": 309.4211794410367,
          "py": 238.80141778211146,
          "shape": "circle",
          "shape_attrs": {
           "r": 15
          },
          "value": null,
          "weight": 12,
          "x": 309.43688517286677,
          "y": 238.80659891304677
         },
         "target": {
          "index": 4,
          "label": "Obi-Wan Kenobi",
          "label_display": "center",
          "movies": "A New Hope, The Empire Strikes Back, Return of the Jedi, The Phantom Menace, Attack of the Clones, Revenge of the Sith",
          "name": "Obi-Wan Kenobi",
          "px": 367.74441096608234,
          "py": 320.4344757323949,
          "shape": "circle",
          "shape_attrs": {
           "r": 15
          },
          "value": null,
          "weight": 12,
          "x": 367.75512979192,
          "y": 320.46895349815986
         }
        },
        {
         "source": {
          "index": 3,
          "label": "Darth Vader",
          "label_display": "center",
          "movies": "A New Hope, The Empire Strikes Back, Return of the Jedi, Revenge of the Sith",
          "name": "Darth Vader",
          "px": 271.43143447956754,
          "py": 323.5241940602424,
          "shape": "circle",
          "shape_attrs": {
           "r": 15
          },
          "value": null,
          "weight": 12,
          "x": 271.4064367209113,
          "y": 323.5524433962158
         },
         "target": {
          "fixed": 0,
          "index": 1,
          "label": "Yoda",
          "label_display": "center",
          "movies": "The Empire Strikes Back, Return of the Jedi, The Phantom Menace, Attack of the Clones, Revenge of the Sith",
          "name": "Yoda",
          "px": 374.2997283080171,
          "py": 161.56472213500209,
          "shape": "circle",
          "shape_attrs": {
           "r": 15
          },
          "value": null,
          "weight": 12,
          "x": 374.2997283080171,
          "y": 161.56472213500209
         }
        },
        {
         "source": {
          "index": 3,
          "label": "Darth Vader",
          "label_display": "center",
          "movies": "A New Hope, The Empire Strikes Back, Return of the Jedi, Revenge of the Sith",
          "name": "Darth Vader",
          "px": 271.43143447956754,
          "py": 323.5241940602424,
          "shape": "circle",
          "shape_attrs": {
           "r": 15
          },
          "value": null,
          "weight": 12,
          "x": 271.4064367209113,
          "y": 323.5524433962158
         },
         "target": {
          "fixed": 0,
          "index": 0,
          "label": "Boba Fett",
          "label_display": "center",
          "movies": "The Empire Strikes Back, Return of the Jedi, Attack of the Clones",
          "name": "Boba Fett",
          "px": 278.55581998375084,
          "py": 150.47753025325179,
          "shape": "circle",
          "shape_attrs": {
           "r": 15
          },
          "value": null,
          "weight": 12,
          "x": 278.55581998375084,
          "y": 150.47753025325179
         }
        },
        {
         "source": {
          "index": 4,
          "label": "Obi-Wan Kenobi",
          "label_display": "center",
          "movies": "A New Hope, The Empire Strikes Back, Return of the Jedi, The Phantom Menace, Attack of the Clones, Revenge of the Sith",
          "name": "Obi-Wan Kenobi",
          "px": 367.74441096608234,
          "py": 320.4344757323949,
          "shape": "circle",
          "shape_attrs": {
           "r": 15
          },
          "value": null,
          "weight": 12,
          "x": 367.75512979192,
          "y": 320.46895349815986
         },
         "target": {
          "fixed": 0,
          "index": 1,
          "label": "Yoda",
          "label_display": "center",
          "movies": "The Empire Strikes Back, Return of the Jedi, The Phantom Menace, Attack of the Clones, Revenge of the Sith",
          "name": "Yoda",
          "px": 374.2997283080171,
          "py": 161.56472213500209,
          "shape": "circle",
          "shape_attrs": {
           "r": 15
          },
          "value": null,
          "weight": 12,
          "x": 374.2997283080171,
          "y": 161.56472213500209
         }
        },
        {
         "source": {
          "index": 4,
          "label": "Obi-Wan Kenobi",
          "label_display": "center",
          "movies": "A New Hope, The Empire Strikes Back, Return of the Jedi, The Phantom Menace, Attack of the Clones, Revenge of the Sith",
          "name": "Obi-Wan Kenobi",
          "px": 367.74441096608234,
          "py": 320.4344757323949,
          "shape": "circle",
          "shape_attrs": {
           "r": 15
          },
          "value": null,
          "weight": 12,
          "x": 367.75512979192,
          "y": 320.46895349815986
         },
         "target": {
          "fixed": 0,
          "index": 0,
          "label": "Boba Fett",
          "label_display": "center",
          "movies": "The Empire Strikes Back, Return of the Jedi, Attack of the Clones",
          "name": "Boba Fett",
          "px": 278.55581998375084,
          "py": 150.47753025325179,
          "shape": "circle",
          "shape_attrs": {
           "r": 15
          },
          "value": null,
          "weight": 12,
          "x": 278.55581998375084,
          "y": 150.47753025325179
         }
        },
        {
         "source": {
          "fixed": 0,
          "index": 1,
          "label": "Yoda",
          "label_display": "center",
          "movies": "The Empire Strikes Back, Return of the Jedi, The Phantom Menace, Attack of the Clones, Revenge of the Sith",
          "name": "Yoda",
          "px": 374.2997283080171,
          "py": 161.56472213500209,
          "shape": "circle",
          "shape_attrs": {
           "r": 15
          },
          "value": null,
          "weight": 12,
          "x": 374.2997283080171,
          "y": 161.56472213500209
         },
         "target": {
          "index": 3,
          "label": "Darth Vader",
          "label_display": "center",
          "movies": "A New Hope, The Empire Strikes Back, Return of the Jedi, Revenge of the Sith",
          "name": "Darth Vader",
          "px": 271.43143447956754,
          "py": 323.5241940602424,
          "shape": "circle",
          "shape_attrs": {
           "r": 15
          },
          "value": null,
          "weight": 12,
          "x": 271.4064367209113,
          "y": 323.5524433962158
         }
        },
        {
         "source": {
          "fixed": 0,
          "index": 1,
          "label": "Yoda",
          "label_display": "center",
          "movies": "The Empire Strikes Back, Return of the Jedi, The Phantom Menace, Attack of the Clones, Revenge of the Sith",
          "name": "Yoda",
          "px": 374.2997283080171,
          "py": 161.56472213500209,
          "shape": "circle",
          "shape_attrs": {
           "r": 15
          },
          "value": null,
          "weight": 12,
          "x": 374.2997283080171,
          "y": 161.56472213500209
         },
         "target": {
          "index": 4,
          "label": "Obi-Wan Kenobi",
          "label_display": "center",
          "movies": "A New Hope, The Empire Strikes Back, Return of the Jedi, The Phantom Menace, Attack of the Clones, Revenge of the Sith",
          "name": "Obi-Wan Kenobi",
          "px": 367.74441096608234,
          "py": 320.4344757323949,
          "shape": "circle",
          "shape_attrs": {
           "r": 15
          },
          "value": null,
          "weight": 12,
          "x": 367.75512979192,
          "y": 320.46895349815986
         }
        },
        {
         "source": {
          "fixed": 0,
          "index": 1,
          "label": "Yoda",
          "label_display": "center",
          "movies": "The Empire Strikes Back, Return of the Jedi, The Phantom Menace, Attack of the Clones, Revenge of the Sith",
          "name": "Yoda",
          "px": 374.2997283080171,
          "py": 161.56472213500209,
          "shape": "circle",
          "shape_attrs": {
           "r": 15
          },
          "value": null,
          "weight": 12,
          "x": 374.2997283080171,
          "y": 161.56472213500209
         },
         "target": {
          "fixed": 0,
          "index": 0,
          "label": "Boba Fett",
          "label_display": "center",
          "movies": "The Empire Strikes Back, Return of the Jedi, Attack of the Clones",
          "name": "Boba Fett",
          "px": 278.55581998375084,
          "py": 150.47753025325179,
          "shape": "circle",
          "shape_attrs": {
           "r": 15
          },
          "value": null,
          "weight": 12,
          "x": 278.55581998375084,
          "y": 150.47753025325179
         }
        },
        {
         "source": {
          "fixed": 0,
          "index": 0,
          "label": "Boba Fett",
          "label_display": "center",
          "movies": "The Empire Strikes Back, Return of the Jedi, Attack of the Clones",
          "name": "Boba Fett",
          "px": 278.55581998375084,
          "py": 150.47753025325179,
          "shape": "circle",
          "shape_attrs": {
           "r": 15
          },
          "value": null,
          "weight": 12,
          "x": 278.55581998375084,
          "y": 150.47753025325179
         },
         "target": {
          "index": 3,
          "label": "Darth Vader",
          "label_display": "center",
          "movies": "A New Hope, The Empire Strikes Back, Return of the Jedi, Revenge of the Sith",
          "name": "Darth Vader",
          "px": 271.43143447956754,
          "py": 323.5241940602424,
          "shape": "circle",
          "shape_attrs": {
           "r": 15
          },
          "value": null,
          "weight": 12,
          "x": 271.4064367209113,
          "y": 323.5524433962158
         }
        },
        {
         "source": {
          "fixed": 0,
          "index": 0,
          "label": "Boba Fett",
          "label_display": "center",
          "movies": "The Empire Strikes Back, Return of the Jedi, Attack of the Clones",
          "name": "Boba Fett",
          "px": 278.55581998375084,
          "py": 150.47753025325179,
          "shape": "circle",
          "shape_attrs": {
           "r": 15
          },
          "value": null,
          "weight": 12,
          "x": 278.55581998375084,
          "y": 150.47753025325179
         },
         "target": {
          "index": 4,
          "label": "Obi-Wan Kenobi",
          "label_display": "center",
          "movies": "A New Hope, The Empire Strikes Back, Return of the Jedi, The Phantom Menace, Attack of the Clones, Revenge of the Sith",
          "name": "Obi-Wan Kenobi",
          "px": 367.74441096608234,
          "py": 320.4344757323949,
          "shape": "circle",
          "shape_attrs": {
           "r": 15
          },
          "value": null,
          "weight": 12,
          "x": 367.75512979192,
          "y": 320.46895349815986
         }
        },
        {
         "source": {
          "fixed": 0,
          "index": 0,
          "label": "Boba Fett",
          "label_display": "center",
          "movies": "The Empire Strikes Back, Return of the Jedi, Attack of the Clones",
          "name": "Boba Fett",
          "px": 278.55581998375084,
          "py": 150.47753025325179,
          "shape": "circle",
          "shape_attrs": {
           "r": 15
          },
          "value": null,
          "weight": 12,
          "x": 278.55581998375084,
          "y": 150.47753025325179
         },
         "target": {
          "fixed": 0,
          "index": 1,
          "label": "Yoda",
          "label_display": "center",
          "movies": "The Empire Strikes Back, Return of the Jedi, The Phantom Menace, Attack of the Clones, Revenge of the Sith",
          "name": "Yoda",
          "px": 374.2997283080171,
          "py": 161.56472213500209,
          "shape": "circle",
          "shape_attrs": {
           "r": 15
          },
          "value": null,
          "weight": 12,
          "x": 374.2997283080171,
          "y": 161.56472213500209
         }
        },
        {
         "source": {
          "index": 3,
          "label": "Darth Vader",
          "label_display": "center",
          "movies": "A New Hope, The Empire Strikes Back, Return of the Jedi, Revenge of the Sith",
          "name": "Darth Vader",
          "px": 271.43143447956754,
          "py": 323.5241940602424,
          "shape": "circle",
          "shape_attrs": {
           "r": 15
          },
          "value": null,
          "weight": 12,
          "x": 271.4064367209113,
          "y": 323.5524433962158
         },
         "target": {
          "index": 6,
          "label": "Mon Mothma",
          "label_display": "center",
          "movies": "Return of the Jedi",
          "name": "Mon Mothma",
          "px": 442.43545611220185,
          "py": 243.8455128155432,
          "shape": "circle",
          "shape_attrs": {
           "r": 15
          },
          "value": null,
          "weight": 10,
          "x": 442.4648787423063,
          "y": 243.8572895353297
         }
        },
        {
         "source": {
          "index": 4,
          "label": "Obi-Wan Kenobi",
          "label_display": "center",
          "movies": "A New Hope, The Empire Strikes Back, Return of the Jedi, The Phantom Menace, Attack of the Clones, Revenge of the Sith",
          "name": "Obi-Wan Kenobi",
          "px": 367.74441096608234,
          "py": 320.4344757323949,
          "shape": "circle",
          "shape_attrs": {
           "r": 15
          },
          "value": null,
          "weight": 12,
          "x": 367.75512979192,
          "y": 320.46895349815986
         },
         "target": {
          "index": 6,
          "label": "Mon Mothma",
          "label_display": "center",
          "movies": "Return of the Jedi",
          "name": "Mon Mothma",
          "px": 442.43545611220185,
          "py": 243.8455128155432,
          "shape": "circle",
          "shape_attrs": {
           "r": 15
          },
          "value": null,
          "weight": 10,
          "x": 442.4648787423063,
          "y": 243.8572895353297
         }
        },
        {
         "source": {
          "index": 2,
          "label": "Jabba Desilijic Tiure",
          "label_display": "center",
          "movies": "A New Hope, Return of the Jedi, The Phantom Menace",
          "name": "Jabba Desilijic Tiure",
          "px": 309.4211794410367,
          "py": 238.80141778211146,
          "shape": "circle",
          "shape_attrs": {
           "r": 15
          },
          "value": null,
          "weight": 12,
          "x": 309.43688517286677,
          "y": 238.80659891304677
         },
         "target": {
          "fixed": 0,
          "index": 1,
          "label": "Yoda",
          "label_display": "center",
          "movies": "The Empire Strikes Back, Return of the Jedi, The Phantom Menace, Attack of the Clones, Revenge of the Sith",
          "name": "Yoda",
          "px": 374.2997283080171,
          "py": 161.56472213500209,
          "shape": "circle",
          "shape_attrs": {
           "r": 15
          },
          "value": null,
          "weight": 12,
          "x": 374.2997283080171,
          "y": 161.56472213500209
         }
        },
        {
         "source": {
          "index": 2,
          "label": "Jabba Desilijic Tiure",
          "label_display": "center",
          "movies": "A New Hope, Return of the Jedi, The Phantom Menace",
          "name": "Jabba Desilijic Tiure",
          "px": 309.4211794410367,
          "py": 238.80141778211146,
          "shape": "circle",
          "shape_attrs": {
           "r": 15
          },
          "value": null,
          "weight": 12,
          "x": 309.43688517286677,
          "y": 238.80659891304677
         },
         "target": {
          "fixed": 0,
          "index": 0,
          "label": "Boba Fett",
          "label_display": "center",
          "movies": "The Empire Strikes Back, Return of the Jedi, Attack of the Clones",
          "name": "Boba Fett",
          "px": 278.55581998375084,
          "py": 150.47753025325179,
          "shape": "circle",
          "shape_attrs": {
           "r": 15
          },
          "value": null,
          "weight": 12,
          "x": 278.55581998375084,
          "y": 150.47753025325179
         }
        },
        {
         "source": {
          "index": 2,
          "label": "Jabba Desilijic Tiure",
          "label_display": "center",
          "movies": "A New Hope, Return of the Jedi, The Phantom Menace",
          "name": "Jabba Desilijic Tiure",
          "px": 309.4211794410367,
          "py": 238.80141778211146,
          "shape": "circle",
          "shape_attrs": {
           "r": 15
          },
          "value": null,
          "weight": 12,
          "x": 309.43688517286677,
          "y": 238.80659891304677
         },
         "target": {
          "index": 6,
          "label": "Mon Mothma",
          "label_display": "center",
          "movies": "Return of the Jedi",
          "name": "Mon Mothma",
          "px": 442.43545611220185,
          "py": 243.8455128155432,
          "shape": "circle",
          "shape_attrs": {
           "r": 15
          },
          "value": null,
          "weight": 10,
          "x": 442.4648787423063,
          "y": 243.8572895353297
         }
        },
        {
         "source": {
          "fixed": 0,
          "index": 1,
          "label": "Yoda",
          "label_display": "center",
          "movies": "The Empire Strikes Back, Return of the Jedi, The Phantom Menace, Attack of the Clones, Revenge of the Sith",
          "name": "Yoda",
          "px": 374.2997283080171,
          "py": 161.56472213500209,
          "shape": "circle",
          "shape_attrs": {
           "r": 15
          },
          "value": null,
          "weight": 12,
          "x": 374.2997283080171,
          "y": 161.56472213500209
         },
         "target": {
          "index": 2,
          "label": "Jabba Desilijic Tiure",
          "label_display": "center",
          "movies": "A New Hope, Return of the Jedi, The Phantom Menace",
          "name": "Jabba Desilijic Tiure",
          "px": 309.4211794410367,
          "py": 238.80141778211146,
          "shape": "circle",
          "shape_attrs": {
           "r": 15
          },
          "value": null,
          "weight": 12,
          "x": 309.43688517286677,
          "y": 238.80659891304677
         }
        },
        {
         "source": {
          "fixed": 0,
          "index": 1,
          "label": "Yoda",
          "label_display": "center",
          "movies": "The Empire Strikes Back, Return of the Jedi, The Phantom Menace, Attack of the Clones, Revenge of the Sith",
          "name": "Yoda",
          "px": 374.2997283080171,
          "py": 161.56472213500209,
          "shape": "circle",
          "shape_attrs": {
           "r": 15
          },
          "value": null,
          "weight": 12,
          "x": 374.2997283080171,
          "y": 161.56472213500209
         },
         "target": {
          "index": 6,
          "label": "Mon Mothma",
          "label_display": "center",
          "movies": "Return of the Jedi",
          "name": "Mon Mothma",
          "px": 442.43545611220185,
          "py": 243.8455128155432,
          "shape": "circle",
          "shape_attrs": {
           "r": 15
          },
          "value": null,
          "weight": 10,
          "x": 442.4648787423063,
          "y": 243.8572895353297
         }
        },
        {
         "source": {
          "fixed": 0,
          "index": 0,
          "label": "Boba Fett",
          "label_display": "center",
          "movies": "The Empire Strikes Back, Return of the Jedi, Attack of the Clones",
          "name": "Boba Fett",
          "px": 278.55581998375084,
          "py": 150.47753025325179,
          "shape": "circle",
          "shape_attrs": {
           "r": 15
          },
          "value": null,
          "weight": 12,
          "x": 278.55581998375084,
          "y": 150.47753025325179
         },
         "target": {
          "index": 2,
          "label": "Jabba Desilijic Tiure",
          "label_display": "center",
          "movies": "A New Hope, Return of the Jedi, The Phantom Menace",
          "name": "Jabba Desilijic Tiure",
          "px": 309.4211794410367,
          "py": 238.80141778211146,
          "shape": "circle",
          "shape_attrs": {
           "r": 15
          },
          "value": null,
          "weight": 12,
          "x": 309.43688517286677,
          "y": 238.80659891304677
         }
        },
        {
         "source": {
          "fixed": 0,
          "index": 0,
          "label": "Boba Fett",
          "label_display": "center",
          "movies": "The Empire Strikes Back, Return of the Jedi, Attack of the Clones",
          "name": "Boba Fett",
          "px": 278.55581998375084,
          "py": 150.47753025325179,
          "shape": "circle",
          "shape_attrs": {
           "r": 15
          },
          "value": null,
          "weight": 12,
          "x": 278.55581998375084,
          "y": 150.47753025325179
         },
         "target": {
          "index": 6,
          "label": "Mon Mothma",
          "label_display": "center",
          "movies": "Return of the Jedi",
          "name": "Mon Mothma",
          "px": 442.43545611220185,
          "py": 243.8455128155432,
          "shape": "circle",
          "shape_attrs": {
           "r": 15
          },
          "value": null,
          "weight": 10,
          "x": 442.4648787423063,
          "y": 243.8572895353297
         }
        },
        {
         "source": {
          "index": 6,
          "label": "Mon Mothma",
          "label_display": "center",
          "movies": "Return of the Jedi",
          "name": "Mon Mothma",
          "px": 442.43545611220185,
          "py": 243.8455128155432,
          "shape": "circle",
          "shape_attrs": {
           "r": 15
          },
          "value": null,
          "weight": 10,
          "x": 442.4648787423063,
          "y": 243.8572895353297
         },
         "target": {
          "index": 3,
          "label": "Darth Vader",
          "label_display": "center",
          "movies": "A New Hope, The Empire Strikes Back, Return of the Jedi, Revenge of the Sith",
          "name": "Darth Vader",
          "px": 271.43143447956754,
          "py": 323.5241940602424,
          "shape": "circle",
          "shape_attrs": {
           "r": 15
          },
          "value": null,
          "weight": 12,
          "x": 271.4064367209113,
          "y": 323.5524433962158
         }
        },
        {
         "source": {
          "index": 6,
          "label": "Mon Mothma",
          "label_display": "center",
          "movies": "Return of the Jedi",
          "name": "Mon Mothma",
          "px": 442.43545611220185,
          "py": 243.8455128155432,
          "shape": "circle",
          "shape_attrs": {
           "r": 15
          },
          "value": null,
          "weight": 10,
          "x": 442.4648787423063,
          "y": 243.8572895353297
         },
         "target": {
          "index": 4,
          "label": "Obi-Wan Kenobi",
          "label_display": "center",
          "movies": "A New Hope, The Empire Strikes Back, Return of the Jedi, The Phantom Menace, Attack of the Clones, Revenge of the Sith",
          "name": "Obi-Wan Kenobi",
          "px": 367.74441096608234,
          "py": 320.4344757323949,
          "shape": "circle",
          "shape_attrs": {
           "r": 15
          },
          "value": null,
          "weight": 12,
          "x": 367.75512979192,
          "y": 320.46895349815986
         }
        },
        {
         "source": {
          "index": 6,
          "label": "Mon Mothma",
          "label_display": "center",
          "movies": "Return of the Jedi",
          "name": "Mon Mothma",
          "px": 442.43545611220185,
          "py": 243.8455128155432,
          "shape": "circle",
          "shape_attrs": {
           "r": 15
          },
          "value": null,
          "weight": 10,
          "x": 442.4648787423063,
          "y": 243.8572895353297
         },
         "target": {
          "index": 2,
          "label": "Jabba Desilijic Tiure",
          "label_display": "center",
          "movies": "A New Hope, Return of the Jedi, The Phantom Menace",
          "name": "Jabba Desilijic Tiure",
          "px": 309.4211794410367,
          "py": 238.80141778211146,
          "shape": "circle",
          "shape_attrs": {
           "r": 15
          },
          "value": null,
          "weight": 12,
          "x": 309.43688517286677,
          "y": 238.80659891304677
         }
        },
        {
         "source": {
          "index": 6,
          "label": "Mon Mothma",
          "label_display": "center",
          "movies": "Return of the Jedi",
          "name": "Mon Mothma",
          "px": 442.43545611220185,
          "py": 243.8455128155432,
          "shape": "circle",
          "shape_attrs": {
           "r": 15
          },
          "value": null,
          "weight": 10,
          "x": 442.4648787423063,
          "y": 243.8572895353297
         },
         "target": {
          "fixed": 0,
          "index": 1,
          "label": "Yoda",
          "label_display": "center",
          "movies": "The Empire Strikes Back, Return of the Jedi, The Phantom Menace, Attack of the Clones, Revenge of the Sith",
          "name": "Yoda",
          "px": 374.2997283080171,
          "py": 161.56472213500209,
          "shape": "circle",
          "shape_attrs": {
           "r": 15
          },
          "value": null,
          "weight": 12,
          "x": 374.2997283080171,
          "y": 161.56472213500209
         }
        },
        {
         "source": {
          "index": 6,
          "label": "Mon Mothma",
          "label_display": "center",
          "movies": "Return of the Jedi",
          "name": "Mon Mothma",
          "px": 442.43545611220185,
          "py": 243.8455128155432,
          "shape": "circle",
          "shape_attrs": {
           "r": 15
          },
          "value": null,
          "weight": 10,
          "x": 442.4648787423063,
          "y": 243.8572895353297
         },
         "target": {
          "fixed": 0,
          "index": 0,
          "label": "Boba Fett",
          "label_display": "center",
          "movies": "The Empire Strikes Back, Return of the Jedi, Attack of the Clones",
          "name": "Boba Fett",
          "px": 278.55581998375084,
          "py": 150.47753025325179,
          "shape": "circle",
          "shape_attrs": {
           "r": 15
          },
          "value": null,
          "weight": 12,
          "x": 278.55581998375084,
          "y": 150.47753025325179
         }
        },
        {
         "source": {
          "index": 5,
          "label": "Beru Whitesun lars",
          "label_display": "center",
          "movies": "A New Hope, Attack of the Clones, Revenge of the Sith",
          "name": "Beru Whitesun lars",
          "px": 196.82465855110695,
          "py": 233.86900720770262,
          "shape": "circle",
          "shape_attrs": {
           "r": 15
          },
          "value": null,
          "weight": 10,
          "x": 196.79310108294155,
          "y": 233.8662635242326
         },
         "target": {
          "fixed": 0,
          "index": 1,
          "label": "Yoda",
          "label_display": "center",
          "movies": "The Empire Strikes Back, Return of the Jedi, The Phantom Menace, Attack of the Clones, Revenge of the Sith",
          "name": "Yoda",
          "px": 374.2997283080171,
          "py": 161.56472213500209,
          "shape": "circle",
          "shape_attrs": {
           "r": 15
          },
          "value": null,
          "weight": 12,
          "x": 374.2997283080171,
          "y": 161.56472213500209
         }
        },
        {
         "source": {
          "index": 5,
          "label": "Beru Whitesun lars",
          "label_display": "center",
          "movies": "A New Hope, Attack of the Clones, Revenge of the Sith",
          "name": "Beru Whitesun lars",
          "px": 196.82465855110695,
          "py": 233.86900720770262,
          "shape": "circle",
          "shape_attrs": {
           "r": 15
          },
          "value": null,
          "weight": 10,
          "x": 196.79310108294155,
          "y": 233.8662635242326
         },
         "target": {
          "fixed": 0,
          "index": 0,
          "label": "Boba Fett",
          "label_display": "center",
          "movies": "The Empire Strikes Back, Return of the Jedi, Attack of the Clones",
          "name": "Boba Fett",
          "px": 278.55581998375084,
          "py": 150.47753025325179,
          "shape": "circle",
          "shape_attrs": {
           "r": 15
          },
          "value": null,
          "weight": 12,
          "x": 278.55581998375084,
          "y": 150.47753025325179
         }
        },
        {
         "source": {
          "fixed": 0,
          "index": 1,
          "label": "Yoda",
          "label_display": "center",
          "movies": "The Empire Strikes Back, Return of the Jedi, The Phantom Menace, Attack of the Clones, Revenge of the Sith",
          "name": "Yoda",
          "px": 374.2997283080171,
          "py": 161.56472213500209,
          "shape": "circle",
          "shape_attrs": {
           "r": 15
          },
          "value": null,
          "weight": 12,
          "x": 374.2997283080171,
          "y": 161.56472213500209
         },
         "target": {
          "index": 5,
          "label": "Beru Whitesun lars",
          "label_display": "center",
          "movies": "A New Hope, Attack of the Clones, Revenge of the Sith",
          "name": "Beru Whitesun lars",
          "px": 196.82465855110695,
          "py": 233.86900720770262,
          "shape": "circle",
          "shape_attrs": {
           "r": 15
          },
          "value": null,
          "weight": 10,
          "x": 196.79310108294155,
          "y": 233.8662635242326
         }
        },
        {
         "source": {
          "fixed": 0,
          "index": 0,
          "label": "Boba Fett",
          "label_display": "center",
          "movies": "The Empire Strikes Back, Return of the Jedi, Attack of the Clones",
          "name": "Boba Fett",
          "px": 278.55581998375084,
          "py": 150.47753025325179,
          "shape": "circle",
          "shape_attrs": {
           "r": 15
          },
          "value": null,
          "weight": 12,
          "x": 278.55581998375084,
          "y": 150.47753025325179
         },
         "target": {
          "index": 5,
          "label": "Beru Whitesun lars",
          "label_display": "center",
          "movies": "A New Hope, Attack of the Clones, Revenge of the Sith",
          "name": "Beru Whitesun lars",
          "px": 196.82465855110695,
          "py": 233.86900720770262,
          "shape": "circle",
          "shape_attrs": {
           "r": 15
          },
          "value": null,
          "weight": 10,
          "x": 196.79310108294155,
          "y": 233.8662635242326
         }
        }
       ],
       "link_distance": 150,
       "link_matrix": {
        "type": "float",
        "values": []
       },
       "link_type": "line",
       "node_data": [
        {
         "fixed": 0,
         "index": 0,
         "label": "Boba Fett",
         "label_display": "center",
         "movies": "The Empire Strikes Back, Return of the Jedi, Attack of the Clones",
         "name": "Boba Fett",
         "px": 278.55581998375084,
         "py": 150.47753025325179,
         "shape": "circle",
         "shape_attrs": {
          "r": 15
         },
         "value": null,
         "weight": 12,
         "x": 278.55581998375084,
         "y": 150.47753025325179
        },
        {
         "fixed": 0,
         "index": 1,
         "label": "Yoda",
         "label_display": "center",
         "movies": "The Empire Strikes Back, Return of the Jedi, The Phantom Menace, Attack of the Clones, Revenge of the Sith",
         "name": "Yoda",
         "px": 374.2997283080171,
         "py": 161.56472213500209,
         "shape": "circle",
         "shape_attrs": {
          "r": 15
         },
         "value": null,
         "weight": 12,
         "x": 374.2997283080171,
         "y": 161.56472213500209
        },
        {
         "index": 2,
         "label": "Jabba Desilijic Tiure",
         "label_display": "center",
         "movies": "A New Hope, Return of the Jedi, The Phantom Menace",
         "name": "Jabba Desilijic Tiure",
         "px": 309.4211794410367,
         "py": 238.80141778211146,
         "shape": "circle",
         "shape_attrs": {
          "r": 15
         },
         "value": null,
         "weight": 12,
         "x": 309.43688517286677,
         "y": 238.80659891304677
        },
        {
         "index": 3,
         "label": "Darth Vader",
         "label_display": "center",
         "movies": "A New Hope, The Empire Strikes Back, Return of the Jedi, Revenge of the Sith",
         "name": "Darth Vader",
         "px": 271.43143447956754,
         "py": 323.5241940602424,
         "shape": "circle",
         "shape_attrs": {
          "r": 15
         },
         "value": null,
         "weight": 12,
         "x": 271.4064367209113,
         "y": 323.5524433962158
        },
        {
         "index": 4,
         "label": "Obi-Wan Kenobi",
         "label_display": "center",
         "movies": "A New Hope, The Empire Strikes Back, Return of the Jedi, The Phantom Menace, Attack of the Clones, Revenge of the Sith",
         "name": "Obi-Wan Kenobi",
         "px": 367.74441096608234,
         "py": 320.4344757323949,
         "shape": "circle",
         "shape_attrs": {
          "r": 15
         },
         "value": null,
         "weight": 12,
         "x": 367.75512979192,
         "y": 320.46895349815986
        },
        {
         "index": 5,
         "label": "Beru Whitesun lars",
         "label_display": "center",
         "movies": "A New Hope, Attack of the Clones, Revenge of the Sith",
         "name": "Beru Whitesun lars",
         "px": 196.82465855110695,
         "py": 233.86900720770262,
         "shape": "circle",
         "shape_attrs": {
          "r": 15
         },
         "value": null,
         "weight": 10,
         "x": 196.79310108294155,
         "y": 233.8662635242326
        },
        {
         "index": 6,
         "label": "Mon Mothma",
         "label_display": "center",
         "movies": "Return of the Jedi",
         "name": "Mon Mothma",
         "px": 442.43545611220185,
         "py": 243.8455128155432,
         "shape": "circle",
         "shape_attrs": {
          "r": 15
         },
         "value": null,
         "weight": 10,
         "x": 442.4648787423063,
         "y": 243.8572895353297
        }
       ],
       "preserve_domain": {},
       "scales": {},
       "scales_metadata": {
        "color": {
         "dimension": "color"
        },
        "link_color": {
         "dimension": "link_color"
        },
        "x": {
         "dimension": "x",
         "orientation": "horizontal"
        },
        "y": {
         "dimension": "y",
         "orientation": "vertical"
        }
       },
       "selected": [
        0
       ],
       "selected_style": {},
       "tooltip": "IPY_MODEL_7082e81c3de543ad947a75e6f1da54c6",
       "tooltip_location": "mouse",
       "tooltip_style": {
        "opacity": 0.9
       },
       "unhovered_style": {},
       "unselected_style": {},
       "visible": true,
       "x": {
        "type": "float",
        "values": []
       },
       "y": {
        "type": "float",
        "values": []
       }
      }
     },
     "29912ca085e04707bac0540edb92c1ab": {
      "model_module": "bqplot",
      "model_module_version": "^0.4.1",
      "model_name": "TooltipModel",
      "state": {
       "_model_module_version": "^0.4.1",
       "_view_module_version": "^0.4.1",
       "fields": [
        "name",
        "movies"
       ],
       "layout": "IPY_MODEL_6df7df6877c34e53bcbb84dfa399b454"
      }
     },
     "2a48650e61ee45039098476d359255e3": {
      "model_module": "@jupyter-widgets/base",
      "model_module_version": "1.1.0",
      "model_name": "LayoutModel",
      "state": {
       "min_width": "125px"
      }
     },
     "2aef0ad6915e4d6b8d2921805c8c5a8c": {
      "model_module": "bqplot",
      "model_module_version": "^0.4.1",
      "model_name": "GraphModel",
      "state": {
       "_model_module": "bqplot",
       "_model_module_version": "^0.4.1",
       "_view_count": null,
       "_view_module": "bqplot",
       "_view_module_version": "^0.4.1",
       "apply_clip": true,
       "charge": -200,
       "color": {
        "type": null,
        "values": null
       },
       "colors": [
        "#1f77b4",
        "#ff7f0e",
        "#2ca02c",
        "#d62728",
        "#9467bd",
        "#8c564b",
        "#e377c2",
        "#7f7f7f",
        "#bcbd22",
        "#17becf"
       ],
       "directed": true,
       "display_legend": false,
       "enable_hover": true,
       "highlight_links": true,
       "hovered_style": {},
       "interactions": {
        "click": "select",
        "hover": "tooltip"
       },
       "labels": [],
       "link_color": {
        "type": "float",
        "values": []
       },
       "link_data": [
        {
         "source": {
          "fixed": 0,
          "index": 3,
          "label": "Darth Vader",
          "label_display": "center",
          "movies": "A New Hope, The Empire Strikes Back, Return of the Jedi, Revenge of the Sith",
          "name": "Darth Vader",
          "px": 240.15168714108015,
          "py": 181.85032366458358,
          "shape": "circle",
          "shape_attrs": {
           "r": 15
          },
          "value": null,
          "weight": 12,
          "x": 240.15168714108015,
          "y": 181.85032366458358
         },
         "target": {
          "index": 5,
          "label": "Beru Whitesun lars",
          "label_display": "center",
          "movies": "A New Hope, Attack of the Clones, Revenge of the Sith",
          "name": "Beru Whitesun lars",
          "px": 250.2959692015997,
          "py": 283.6720363103554,
          "shape": "circle",
          "shape_attrs": {
           "r": 15
          },
          "value": null,
          "weight": 10,
          "x": 250.23252943189567,
          "y": 283.6316137863465
         }
        },
        {
         "source": {
          "fixed": 0,
          "index": 3,
          "label": "Darth Vader",
          "label_display": "center",
          "movies": "A New Hope, The Empire Strikes Back, Return of the Jedi, Revenge of the Sith",
          "name": "Darth Vader",
          "px": 240.15168714108015,
          "py": 181.85032366458358,
          "shape": "circle",
          "shape_attrs": {
           "r": 15
          },
          "value": null,
          "weight": 12,
          "x": 240.15168714108015,
          "y": 181.85032366458358
         },
         "target": {
          "index": 4,
          "label": "Obi-Wan Kenobi",
          "label_display": "center",
          "movies": "A New Hope, The Empire Strikes Back, Return of the Jedi, The Phantom Menace, Attack of the Clones, Revenge of the Sith",
          "name": "Obi-Wan Kenobi",
          "px": 409.78436325521034,
          "py": 266.59413801842123,
          "shape": "circle",
          "shape_attrs": {
           "r": 15
          },
          "value": null,
          "weight": 12,
          "x": 409.81417444511385,
          "y": 266.6031626634246
         }
        },
        {
         "source": {
          "fixed": 0,
          "index": 3,
          "label": "Darth Vader",
          "label_display": "center",
          "movies": "A New Hope, The Empire Strikes Back, Return of the Jedi, Revenge of the Sith",
          "name": "Darth Vader",
          "px": 240.15168714108015,
          "py": 181.85032366458358,
          "shape": "circle",
          "shape_attrs": {
           "r": 15
          },
          "value": null,
          "weight": 12,
          "x": 240.15168714108015,
          "y": 181.85032366458358
         },
         "target": {
          "index": 2,
          "label": "Jabba Desilijic Tiure",
          "label_display": "center",
          "movies": "A New Hope, Return of the Jedi, The Phantom Menace",
          "name": "Jabba Desilijic Tiure",
          "px": 395.7590021349584,
          "py": 183.63334159014488,
          "shape": "circle",
          "shape_attrs": {
           "r": 15
          },
          "value": null,
          "weight": 12,
          "x": 395.78455442117746,
          "y": 183.61398762463205
         }
        },
        {
         "source": {
          "index": 5,
          "label": "Beru Whitesun lars",
          "label_display": "center",
          "movies": "A New Hope, Attack of the Clones, Revenge of the Sith",
          "name": "Beru Whitesun lars",
          "px": 250.2959692015997,
          "py": 283.6720363103554,
          "shape": "circle",
          "shape_attrs": {
           "r": 15
          },
          "value": null,
          "weight": 10,
          "x": 250.23252943189567,
          "y": 283.6316137863465
         },
         "target": {
          "fixed": 0,
          "index": 3,
          "label": "Darth Vader",
          "label_display": "center",
          "movies": "A New Hope, The Empire Strikes Back, Return of the Jedi, Revenge of the Sith",
          "name": "Darth Vader",
          "px": 240.15168714108015,
          "py": 181.85032366458358,
          "shape": "circle",
          "shape_attrs": {
           "r": 15
          },
          "value": null,
          "weight": 12,
          "x": 240.15168714108015,
          "y": 181.85032366458358
         }
        },
        {
         "source": {
          "index": 5,
          "label": "Beru Whitesun lars",
          "label_display": "center",
          "movies": "A New Hope, Attack of the Clones, Revenge of the Sith",
          "name": "Beru Whitesun lars",
          "px": 250.2959692015997,
          "py": 283.6720363103554,
          "shape": "circle",
          "shape_attrs": {
           "r": 15
          },
          "value": null,
          "weight": 10,
          "x": 250.23252943189567,
          "y": 283.6316137863465
         },
         "target": {
          "index": 4,
          "label": "Obi-Wan Kenobi",
          "label_display": "center",
          "movies": "A New Hope, The Empire Strikes Back, Return of the Jedi, The Phantom Menace, Attack of the Clones, Revenge of the Sith",
          "name": "Obi-Wan Kenobi",
          "px": 409.78436325521034,
          "py": 266.59413801842123,
          "shape": "circle",
          "shape_attrs": {
           "r": 15
          },
          "value": null,
          "weight": 12,
          "x": 409.81417444511385,
          "y": 266.6031626634246
         }
        },
        {
         "source": {
          "index": 5,
          "label": "Beru Whitesun lars",
          "label_display": "center",
          "movies": "A New Hope, Attack of the Clones, Revenge of the Sith",
          "name": "Beru Whitesun lars",
          "px": 250.2959692015997,
          "py": 283.6720363103554,
          "shape": "circle",
          "shape_attrs": {
           "r": 15
          },
          "value": null,
          "weight": 10,
          "x": 250.23252943189567,
          "y": 283.6316137863465
         },
         "target": {
          "index": 2,
          "label": "Jabba Desilijic Tiure",
          "label_display": "center",
          "movies": "A New Hope, Return of the Jedi, The Phantom Menace",
          "name": "Jabba Desilijic Tiure",
          "px": 395.7590021349584,
          "py": 183.63334159014488,
          "shape": "circle",
          "shape_attrs": {
           "r": 15
          },
          "value": null,
          "weight": 12,
          "x": 395.78455442117746,
          "y": 183.61398762463205
         }
        },
        {
         "source": {
          "index": 4,
          "label": "Obi-Wan Kenobi",
          "label_display": "center",
          "movies": "A New Hope, The Empire Strikes Back, Return of the Jedi, The Phantom Menace, Attack of the Clones, Revenge of the Sith",
          "name": "Obi-Wan Kenobi",
          "px": 409.78436325521034,
          "py": 266.59413801842123,
          "shape": "circle",
          "shape_attrs": {
           "r": 15
          },
          "value": null,
          "weight": 12,
          "x": 409.81417444511385,
          "y": 266.6031626634246
         },
         "target": {
          "fixed": 0,
          "index": 3,
          "label": "Darth Vader",
          "label_display": "center",
          "movies": "A New Hope, The Empire Strikes Back, Return of the Jedi, Revenge of the Sith",
          "name": "Darth Vader",
          "px": 240.15168714108015,
          "py": 181.85032366458358,
          "shape": "circle",
          "shape_attrs": {
           "r": 15
          },
          "value": null,
          "weight": 12,
          "x": 240.15168714108015,
          "y": 181.85032366458358
         }
        },
        {
         "source": {
          "index": 4,
          "label": "Obi-Wan Kenobi",
          "label_display": "center",
          "movies": "A New Hope, The Empire Strikes Back, Return of the Jedi, The Phantom Menace, Attack of the Clones, Revenge of the Sith",
          "name": "Obi-Wan Kenobi",
          "px": 409.78436325521034,
          "py": 266.59413801842123,
          "shape": "circle",
          "shape_attrs": {
           "r": 15
          },
          "value": null,
          "weight": 12,
          "x": 409.81417444511385,
          "y": 266.6031626634246
         },
         "target": {
          "index": 5,
          "label": "Beru Whitesun lars",
          "label_display": "center",
          "movies": "A New Hope, Attack of the Clones, Revenge of the Sith",
          "name": "Beru Whitesun lars",
          "px": 250.2959692015997,
          "py": 283.6720363103554,
          "shape": "circle",
          "shape_attrs": {
           "r": 15
          },
          "value": null,
          "weight": 10,
          "x": 250.23252943189567,
          "y": 283.6316137863465
         }
        },
        {
         "source": {
          "index": 4,
          "label": "Obi-Wan Kenobi",
          "label_display": "center",
          "movies": "A New Hope, The Empire Strikes Back, Return of the Jedi, The Phantom Menace, Attack of the Clones, Revenge of the Sith",
          "name": "Obi-Wan Kenobi",
          "px": 409.78436325521034,
          "py": 266.59413801842123,
          "shape": "circle",
          "shape_attrs": {
           "r": 15
          },
          "value": null,
          "weight": 12,
          "x": 409.81417444511385,
          "y": 266.6031626634246
         },
         "target": {
          "index": 2,
          "label": "Jabba Desilijic Tiure",
          "label_display": "center",
          "movies": "A New Hope, Return of the Jedi, The Phantom Menace",
          "name": "Jabba Desilijic Tiure",
          "px": 395.7590021349584,
          "py": 183.63334159014488,
          "shape": "circle",
          "shape_attrs": {
           "r": 15
          },
          "value": null,
          "weight": 12,
          "x": 395.78455442117746,
          "y": 183.61398762463205
         }
        },
        {
         "source": {
          "index": 2,
          "label": "Jabba Desilijic Tiure",
          "label_display": "center",
          "movies": "A New Hope, Return of the Jedi, The Phantom Menace",
          "name": "Jabba Desilijic Tiure",
          "px": 395.7590021349584,
          "py": 183.63334159014488,
          "shape": "circle",
          "shape_attrs": {
           "r": 15
          },
          "value": null,
          "weight": 12,
          "x": 395.78455442117746,
          "y": 183.61398762463205
         },
         "target": {
          "fixed": 0,
          "index": 3,
          "label": "Darth Vader",
          "label_display": "center",
          "movies": "A New Hope, The Empire Strikes Back, Return of the Jedi, Revenge of the Sith",
          "name": "Darth Vader",
          "px": 240.15168714108015,
          "py": 181.85032366458358,
          "shape": "circle",
          "shape_attrs": {
           "r": 15
          },
          "value": null,
          "weight": 12,
          "x": 240.15168714108015,
          "y": 181.85032366458358
         }
        },
        {
         "source": {
          "index": 2,
          "label": "Jabba Desilijic Tiure",
          "label_display": "center",
          "movies": "A New Hope, Return of the Jedi, The Phantom Menace",
          "name": "Jabba Desilijic Tiure",
          "px": 395.7590021349584,
          "py": 183.63334159014488,
          "shape": "circle",
          "shape_attrs": {
           "r": 15
          },
          "value": null,
          "weight": 12,
          "x": 395.78455442117746,
          "y": 183.61398762463205
         },
         "target": {
          "index": 5,
          "label": "Beru Whitesun lars",
          "label_display": "center",
          "movies": "A New Hope, Attack of the Clones, Revenge of the Sith",
          "name": "Beru Whitesun lars",
          "px": 250.2959692015997,
          "py": 283.6720363103554,
          "shape": "circle",
          "shape_attrs": {
           "r": 15
          },
          "value": null,
          "weight": 10,
          "x": 250.23252943189567,
          "y": 283.6316137863465
         }
        },
        {
         "source": {
          "index": 2,
          "label": "Jabba Desilijic Tiure",
          "label_display": "center",
          "movies": "A New Hope, Return of the Jedi, The Phantom Menace",
          "name": "Jabba Desilijic Tiure",
          "px": 395.7590021349584,
          "py": 183.63334159014488,
          "shape": "circle",
          "shape_attrs": {
           "r": 15
          },
          "value": null,
          "weight": 12,
          "x": 395.78455442117746,
          "y": 183.61398762463205
         },
         "target": {
          "index": 4,
          "label": "Obi-Wan Kenobi",
          "label_display": "center",
          "movies": "A New Hope, The Empire Strikes Back, Return of the Jedi, The Phantom Menace, Attack of the Clones, Revenge of the Sith",
          "name": "Obi-Wan Kenobi",
          "px": 409.78436325521034,
          "py": 266.59413801842123,
          "shape": "circle",
          "shape_attrs": {
           "r": 15
          },
          "value": null,
          "weight": 12,
          "x": 409.81417444511385,
          "y": 266.6031626634246
         }
        },
        {
         "source": {
          "fixed": 0,
          "index": 3,
          "label": "Darth Vader",
          "label_display": "center",
          "movies": "A New Hope, The Empire Strikes Back, Return of the Jedi, Revenge of the Sith",
          "name": "Darth Vader",
          "px": 240.15168714108015,
          "py": 181.85032366458358,
          "shape": "circle",
          "shape_attrs": {
           "r": 15
          },
          "value": null,
          "weight": 12,
          "x": 240.15168714108015,
          "y": 181.85032366458358
         },
         "target": {
          "index": 1,
          "label": "Yoda",
          "label_display": "center",
          "movies": "The Empire Strikes Back, Return of the Jedi, The Phantom Menace, Attack of the Clones, Revenge of the Sith",
          "name": "Yoda",
          "px": 319.91183732116394,
          "py": 146.09054679987813,
          "shape": "circle",
          "shape_attrs": {
           "r": 15
          },
          "value": null,
          "weight": 12,
          "x": 319.9153189635445,
          "y": 146.06078055853018
         }
        },
        {
         "source": {
          "fixed": 0,
          "index": 3,
          "label": "Darth Vader",
          "label_display": "center",
          "movies": "A New Hope, The Empire Strikes Back, Return of the Jedi, Revenge of the Sith",
          "name": "Darth Vader",
          "px": 240.15168714108015,
          "py": 181.85032366458358,
          "shape": "circle",
          "shape_attrs": {
           "r": 15
          },
          "value": null,
          "weight": 12,
          "x": 240.15168714108015,
          "y": 181.85032366458358
         },
         "target": {
          "index": 0,
          "label": "Boba Fett",
          "label_display": "center",
          "movies": "The Empire Strikes Back, Return of the Jedi, Attack of the Clones",
          "name": "Boba Fett",
          "px": 352.7404700880388,
          "py": 332.9042651307518,
          "shape": "circle",
          "shape_attrs": {
           "r": 15
          },
          "value": null,
          "weight": 12,
          "x": 352.7508409735798,
          "y": 332.93336223144433
         }
        },
        {
         "source": {
          "index": 4,
          "label": "Obi-Wan Kenobi",
          "label_display": "center",
          "movies": "A New Hope, The Empire Strikes Back, Return of the Jedi, The Phantom Menace, Attack of the Clones, Revenge of the Sith",
          "name": "Obi-Wan Kenobi",
          "px": 409.78436325521034,
          "py": 266.59413801842123,
          "shape": "circle",
          "shape_attrs": {
           "r": 15
          },
          "value": null,
          "weight": 12,
          "x": 409.81417444511385,
          "y": 266.6031626634246
         },
         "target": {
          "index": 1,
          "label": "Yoda",
          "label_display": "center",
          "movies": "The Empire Strikes Back, Return of the Jedi, The Phantom Menace, Attack of the Clones, Revenge of the Sith",
          "name": "Yoda",
          "px": 319.91183732116394,
          "py": 146.09054679987813,
          "shape": "circle",
          "shape_attrs": {
           "r": 15
          },
          "value": null,
          "weight": 12,
          "x": 319.9153189635445,
          "y": 146.06078055853018
         }
        },
        {
         "source": {
          "index": 4,
          "label": "Obi-Wan Kenobi",
          "label_display": "center",
          "movies": "A New Hope, The Empire Strikes Back, Return of the Jedi, The Phantom Menace, Attack of the Clones, Revenge of the Sith",
          "name": "Obi-Wan Kenobi",
          "px": 409.78436325521034,
          "py": 266.59413801842123,
          "shape": "circle",
          "shape_attrs": {
           "r": 15
          },
          "value": null,
          "weight": 12,
          "x": 409.81417444511385,
          "y": 266.6031626634246
         },
         "target": {
          "index": 0,
          "label": "Boba Fett",
          "label_display": "center",
          "movies": "The Empire Strikes Back, Return of the Jedi, Attack of the Clones",
          "name": "Boba Fett",
          "px": 352.7404700880388,
          "py": 332.9042651307518,
          "shape": "circle",
          "shape_attrs": {
           "r": 15
          },
          "value": null,
          "weight": 12,
          "x": 352.7508409735798,
          "y": 332.93336223144433
         }
        },
        {
         "source": {
          "index": 1,
          "label": "Yoda",
          "label_display": "center",
          "movies": "The Empire Strikes Back, Return of the Jedi, The Phantom Menace, Attack of the Clones, Revenge of the Sith",
          "name": "Yoda",
          "px": 319.91183732116394,
          "py": 146.09054679987813,
          "shape": "circle",
          "shape_attrs": {
           "r": 15
          },
          "value": null,
          "weight": 12,
          "x": 319.9153189635445,
          "y": 146.06078055853018
         },
         "target": {
          "fixed": 0,
          "index": 3,
          "label": "Darth Vader",
          "label_display": "center",
          "movies": "A New Hope, The Empire Strikes Back, Return of the Jedi, Revenge of the Sith",
          "name": "Darth Vader",
          "px": 240.15168714108015,
          "py": 181.85032366458358,
          "shape": "circle",
          "shape_attrs": {
           "r": 15
          },
          "value": null,
          "weight": 12,
          "x": 240.15168714108015,
          "y": 181.85032366458358
         }
        },
        {
         "source": {
          "index": 1,
          "label": "Yoda",
          "label_display": "center",
          "movies": "The Empire Strikes Back, Return of the Jedi, The Phantom Menace, Attack of the Clones, Revenge of the Sith",
          "name": "Yoda",
          "px": 319.91183732116394,
          "py": 146.09054679987813,
          "shape": "circle",
          "shape_attrs": {
           "r": 15
          },
          "value": null,
          "weight": 12,
          "x": 319.9153189635445,
          "y": 146.06078055853018
         },
         "target": {
          "index": 4,
          "label": "Obi-Wan Kenobi",
          "label_display": "center",
          "movies": "A New Hope, The Empire Strikes Back, Return of the Jedi, The Phantom Menace, Attack of the Clones, Revenge of the Sith",
          "name": "Obi-Wan Kenobi",
          "px": 409.78436325521034,
          "py": 266.59413801842123,
          "shape": "circle",
          "shape_attrs": {
           "r": 15
          },
          "value": null,
          "weight": 12,
          "x": 409.81417444511385,
          "y": 266.6031626634246
         }
        },
        {
         "source": {
          "index": 1,
          "label": "Yoda",
          "label_display": "center",
          "movies": "The Empire Strikes Back, Return of the Jedi, The Phantom Menace, Attack of the Clones, Revenge of the Sith",
          "name": "Yoda",
          "px": 319.91183732116394,
          "py": 146.09054679987813,
          "shape": "circle",
          "shape_attrs": {
           "r": 15
          },
          "value": null,
          "weight": 12,
          "x": 319.9153189635445,
          "y": 146.06078055853018
         },
         "target": {
          "index": 0,
          "label": "Boba Fett",
          "label_display": "center",
          "movies": "The Empire Strikes Back, Return of the Jedi, Attack of the Clones",
          "name": "Boba Fett",
          "px": 352.7404700880388,
          "py": 332.9042651307518,
          "shape": "circle",
          "shape_attrs": {
           "r": 15
          },
          "value": null,
          "weight": 12,
          "x": 352.7508409735798,
          "y": 332.93336223144433
         }
        },
        {
         "source": {
          "index": 0,
          "label": "Boba Fett",
          "label_display": "center",
          "movies": "The Empire Strikes Back, Return of the Jedi, Attack of the Clones",
          "name": "Boba Fett",
          "px": 352.7404700880388,
          "py": 332.9042651307518,
          "shape": "circle",
          "shape_attrs": {
           "r": 15
          },
          "value": null,
          "weight": 12,
          "x": 352.7508409735798,
          "y": 332.93336223144433
         },
         "target": {
          "fixed": 0,
          "index": 3,
          "label": "Darth Vader",
          "label_display": "center",
          "movies": "A New Hope, The Empire Strikes Back, Return of the Jedi, Revenge of the Sith",
          "name": "Darth Vader",
          "px": 240.15168714108015,
          "py": 181.85032366458358,
          "shape": "circle",
          "shape_attrs": {
           "r": 15
          },
          "value": null,
          "weight": 12,
          "x": 240.15168714108015,
          "y": 181.85032366458358
         }
        },
        {
         "source": {
          "index": 0,
          "label": "Boba Fett",
          "label_display": "center",
          "movies": "The Empire Strikes Back, Return of the Jedi, Attack of the Clones",
          "name": "Boba Fett",
          "px": 352.7404700880388,
          "py": 332.9042651307518,
          "shape": "circle",
          "shape_attrs": {
           "r": 15
          },
          "value": null,
          "weight": 12,
          "x": 352.7508409735798,
          "y": 332.93336223144433
         },
         "target": {
          "index": 4,
          "label": "Obi-Wan Kenobi",
          "label_display": "center",
          "movies": "A New Hope, The Empire Strikes Back, Return of the Jedi, The Phantom Menace, Attack of the Clones, Revenge of the Sith",
          "name": "Obi-Wan Kenobi",
          "px": 409.78436325521034,
          "py": 266.59413801842123,
          "shape": "circle",
          "shape_attrs": {
           "r": 15
          },
          "value": null,
          "weight": 12,
          "x": 409.81417444511385,
          "y": 266.6031626634246
         }
        },
        {
         "source": {
          "index": 0,
          "label": "Boba Fett",
          "label_display": "center",
          "movies": "The Empire Strikes Back, Return of the Jedi, Attack of the Clones",
          "name": "Boba Fett",
          "px": 352.7404700880388,
          "py": 332.9042651307518,
          "shape": "circle",
          "shape_attrs": {
           "r": 15
          },
          "value": null,
          "weight": 12,
          "x": 352.7508409735798,
          "y": 332.93336223144433
         },
         "target": {
          "index": 1,
          "label": "Yoda",
          "label_display": "center",
          "movies": "The Empire Strikes Back, Return of the Jedi, The Phantom Menace, Attack of the Clones, Revenge of the Sith",
          "name": "Yoda",
          "px": 319.91183732116394,
          "py": 146.09054679987813,
          "shape": "circle",
          "shape_attrs": {
           "r": 15
          },
          "value": null,
          "weight": 12,
          "x": 319.9153189635445,
          "y": 146.06078055853018
         }
        },
        {
         "source": {
          "fixed": 0,
          "index": 3,
          "label": "Darth Vader",
          "label_display": "center",
          "movies": "A New Hope, The Empire Strikes Back, Return of the Jedi, Revenge of the Sith",
          "name": "Darth Vader",
          "px": 240.15168714108015,
          "py": 181.85032366458358,
          "shape": "circle",
          "shape_attrs": {
           "r": 15
          },
          "value": null,
          "weight": 12,
          "x": 240.15168714108015,
          "y": 181.85032366458358
         },
         "target": {
          "index": 6,
          "label": "Mon Mothma",
          "label_display": "center",
          "movies": "Return of the Jedi",
          "name": "Mon Mothma",
          "px": 258.1629882238886,
          "py": 293.52469043567413,
          "shape": "circle",
          "shape_attrs": {
           "r": 15
          },
          "value": null,
          "weight": 10,
          "x": 258.18699722389607,
          "y": 293.5982562039828
         }
        },
        {
         "source": {
          "index": 4,
          "label": "Obi-Wan Kenobi",
          "label_display": "center",
          "movies": "A New Hope, The Empire Strikes Back, Return of the Jedi, The Phantom Menace, Attack of the Clones, Revenge of the Sith",
          "name": "Obi-Wan Kenobi",
          "px": 409.78436325521034,
          "py": 266.59413801842123,
          "shape": "circle",
          "shape_attrs": {
           "r": 15
          },
          "value": null,
          "weight": 12,
          "x": 409.81417444511385,
          "y": 266.6031626634246
         },
         "target": {
          "index": 6,
          "label": "Mon Mothma",
          "label_display": "center",
          "movies": "Return of the Jedi",
          "name": "Mon Mothma",
          "px": 258.1629882238886,
          "py": 293.52469043567413,
          "shape": "circle",
          "shape_attrs": {
           "r": 15
          },
          "value": null,
          "weight": 10,
          "x": 258.18699722389607,
          "y": 293.5982562039828
         }
        },
        {
         "source": {
          "index": 2,
          "label": "Jabba Desilijic Tiure",
          "label_display": "center",
          "movies": "A New Hope, Return of the Jedi, The Phantom Menace",
          "name": "Jabba Desilijic Tiure",
          "px": 395.7590021349584,
          "py": 183.63334159014488,
          "shape": "circle",
          "shape_attrs": {
           "r": 15
          },
          "value": null,
          "weight": 12,
          "x": 395.78455442117746,
          "y": 183.61398762463205
         },
         "target": {
          "index": 1,
          "label": "Yoda",
          "label_display": "center",
          "movies": "The Empire Strikes Back, Return of the Jedi, The Phantom Menace, Attack of the Clones, Revenge of the Sith",
          "name": "Yoda",
          "px": 319.91183732116394,
          "py": 146.09054679987813,
          "shape": "circle",
          "shape_attrs": {
           "r": 15
          },
          "value": null,
          "weight": 12,
          "x": 319.9153189635445,
          "y": 146.06078055853018
         }
        },
        {
         "source": {
          "index": 2,
          "label": "Jabba Desilijic Tiure",
          "label_display": "center",
          "movies": "A New Hope, Return of the Jedi, The Phantom Menace",
          "name": "Jabba Desilijic Tiure",
          "px": 395.7590021349584,
          "py": 183.63334159014488,
          "shape": "circle",
          "shape_attrs": {
           "r": 15
          },
          "value": null,
          "weight": 12,
          "x": 395.78455442117746,
          "y": 183.61398762463205
         },
         "target": {
          "index": 0,
          "label": "Boba Fett",
          "label_display": "center",
          "movies": "The Empire Strikes Back, Return of the Jedi, Attack of the Clones",
          "name": "Boba Fett",
          "px": 352.7404700880388,
          "py": 332.9042651307518,
          "shape": "circle",
          "shape_attrs": {
           "r": 15
          },
          "value": null,
          "weight": 12,
          "x": 352.7508409735798,
          "y": 332.93336223144433
         }
        },
        {
         "source": {
          "index": 2,
          "label": "Jabba Desilijic Tiure",
          "label_display": "center",
          "movies": "A New Hope, Return of the Jedi, The Phantom Menace",
          "name": "Jabba Desilijic Tiure",
          "px": 395.7590021349584,
          "py": 183.63334159014488,
          "shape": "circle",
          "shape_attrs": {
           "r": 15
          },
          "value": null,
          "weight": 12,
          "x": 395.78455442117746,
          "y": 183.61398762463205
         },
         "target": {
          "index": 6,
          "label": "Mon Mothma",
          "label_display": "center",
          "movies": "Return of the Jedi",
          "name": "Mon Mothma",
          "px": 258.1629882238886,
          "py": 293.52469043567413,
          "shape": "circle",
          "shape_attrs": {
           "r": 15
          },
          "value": null,
          "weight": 10,
          "x": 258.18699722389607,
          "y": 293.5982562039828
         }
        },
        {
         "source": {
          "index": 1,
          "label": "Yoda",
          "label_display": "center",
          "movies": "The Empire Strikes Back, Return of the Jedi, The Phantom Menace, Attack of the Clones, Revenge of the Sith",
          "name": "Yoda",
          "px": 319.91183732116394,
          "py": 146.09054679987813,
          "shape": "circle",
          "shape_attrs": {
           "r": 15
          },
          "value": null,
          "weight": 12,
          "x": 319.9153189635445,
          "y": 146.06078055853018
         },
         "target": {
          "index": 2,
          "label": "Jabba Desilijic Tiure",
          "label_display": "center",
          "movies": "A New Hope, Return of the Jedi, The Phantom Menace",
          "name": "Jabba Desilijic Tiure",
          "px": 395.7590021349584,
          "py": 183.63334159014488,
          "shape": "circle",
          "shape_attrs": {
           "r": 15
          },
          "value": null,
          "weight": 12,
          "x": 395.78455442117746,
          "y": 183.61398762463205
         }
        },
        {
         "source": {
          "index": 1,
          "label": "Yoda",
          "label_display": "center",
          "movies": "The Empire Strikes Back, Return of the Jedi, The Phantom Menace, Attack of the Clones, Revenge of the Sith",
          "name": "Yoda",
          "px": 319.91183732116394,
          "py": 146.09054679987813,
          "shape": "circle",
          "shape_attrs": {
           "r": 15
          },
          "value": null,
          "weight": 12,
          "x": 319.9153189635445,
          "y": 146.06078055853018
         },
         "target": {
          "index": 6,
          "label": "Mon Mothma",
          "label_display": "center",
          "movies": "Return of the Jedi",
          "name": "Mon Mothma",
          "px": 258.1629882238886,
          "py": 293.52469043567413,
          "shape": "circle",
          "shape_attrs": {
           "r": 15
          },
          "value": null,
          "weight": 10,
          "x": 258.18699722389607,
          "y": 293.5982562039828
         }
        },
        {
         "source": {
          "index": 0,
          "label": "Boba Fett",
          "label_display": "center",
          "movies": "The Empire Strikes Back, Return of the Jedi, Attack of the Clones",
          "name": "Boba Fett",
          "px": 352.7404700880388,
          "py": 332.9042651307518,
          "shape": "circle",
          "shape_attrs": {
           "r": 15
          },
          "value": null,
          "weight": 12,
          "x": 352.7508409735798,
          "y": 332.93336223144433
         },
         "target": {
          "index": 2,
          "label": "Jabba Desilijic Tiure",
          "label_display": "center",
          "movies": "A New Hope, Return of the Jedi, The Phantom Menace",
          "name": "Jabba Desilijic Tiure",
          "px": 395.7590021349584,
          "py": 183.63334159014488,
          "shape": "circle",
          "shape_attrs": {
           "r": 15
          },
          "value": null,
          "weight": 12,
          "x": 395.78455442117746,
          "y": 183.61398762463205
         }
        },
        {
         "source": {
          "index": 0,
          "label": "Boba Fett",
          "label_display": "center",
          "movies": "The Empire Strikes Back, Return of the Jedi, Attack of the Clones",
          "name": "Boba Fett",
          "px": 352.7404700880388,
          "py": 332.9042651307518,
          "shape": "circle",
          "shape_attrs": {
           "r": 15
          },
          "value": null,
          "weight": 12,
          "x": 352.7508409735798,
          "y": 332.93336223144433
         },
         "target": {
          "index": 6,
          "label": "Mon Mothma",
          "label_display": "center",
          "movies": "Return of the Jedi",
          "name": "Mon Mothma",
          "px": 258.1629882238886,
          "py": 293.52469043567413,
          "shape": "circle",
          "shape_attrs": {
           "r": 15
          },
          "value": null,
          "weight": 10,
          "x": 258.18699722389607,
          "y": 293.5982562039828
         }
        },
        {
         "source": {
          "index": 6,
          "label": "Mon Mothma",
          "label_display": "center",
          "movies": "Return of the Jedi",
          "name": "Mon Mothma",
          "px": 258.1629882238886,
          "py": 293.52469043567413,
          "shape": "circle",
          "shape_attrs": {
           "r": 15
          },
          "value": null,
          "weight": 10,
          "x": 258.18699722389607,
          "y": 293.5982562039828
         },
         "target": {
          "fixed": 0,
          "index": 3,
          "label": "Darth Vader",
          "label_display": "center",
          "movies": "A New Hope, The Empire Strikes Back, Return of the Jedi, Revenge of the Sith",
          "name": "Darth Vader",
          "px": 240.15168714108015,
          "py": 181.85032366458358,
          "shape": "circle",
          "shape_attrs": {
           "r": 15
          },
          "value": null,
          "weight": 12,
          "x": 240.15168714108015,
          "y": 181.85032366458358
         }
        },
        {
         "source": {
          "index": 6,
          "label": "Mon Mothma",
          "label_display": "center",
          "movies": "Return of the Jedi",
          "name": "Mon Mothma",
          "px": 258.1629882238886,
          "py": 293.52469043567413,
          "shape": "circle",
          "shape_attrs": {
           "r": 15
          },
          "value": null,
          "weight": 10,
          "x": 258.18699722389607,
          "y": 293.5982562039828
         },
         "target": {
          "index": 4,
          "label": "Obi-Wan Kenobi",
          "label_display": "center",
          "movies": "A New Hope, The Empire Strikes Back, Return of the Jedi, The Phantom Menace, Attack of the Clones, Revenge of the Sith",
          "name": "Obi-Wan Kenobi",
          "px": 409.78436325521034,
          "py": 266.59413801842123,
          "shape": "circle",
          "shape_attrs": {
           "r": 15
          },
          "value": null,
          "weight": 12,
          "x": 409.81417444511385,
          "y": 266.6031626634246
         }
        },
        {
         "source": {
          "index": 6,
          "label": "Mon Mothma",
          "label_display": "center",
          "movies": "Return of the Jedi",
          "name": "Mon Mothma",
          "px": 258.1629882238886,
          "py": 293.52469043567413,
          "shape": "circle",
          "shape_attrs": {
           "r": 15
          },
          "value": null,
          "weight": 10,
          "x": 258.18699722389607,
          "y": 293.5982562039828
         },
         "target": {
          "index": 2,
          "label": "Jabba Desilijic Tiure",
          "label_display": "center",
          "movies": "A New Hope, Return of the Jedi, The Phantom Menace",
          "name": "Jabba Desilijic Tiure",
          "px": 395.7590021349584,
          "py": 183.63334159014488,
          "shape": "circle",
          "shape_attrs": {
           "r": 15
          },
          "value": null,
          "weight": 12,
          "x": 395.78455442117746,
          "y": 183.61398762463205
         }
        },
        {
         "source": {
          "index": 6,
          "label": "Mon Mothma",
          "label_display": "center",
          "movies": "Return of the Jedi",
          "name": "Mon Mothma",
          "px": 258.1629882238886,
          "py": 293.52469043567413,
          "shape": "circle",
          "shape_attrs": {
           "r": 15
          },
          "value": null,
          "weight": 10,
          "x": 258.18699722389607,
          "y": 293.5982562039828
         },
         "target": {
          "index": 1,
          "label": "Yoda",
          "label_display": "center",
          "movies": "The Empire Strikes Back, Return of the Jedi, The Phantom Menace, Attack of the Clones, Revenge of the Sith",
          "name": "Yoda",
          "px": 319.91183732116394,
          "py": 146.09054679987813,
          "shape": "circle",
          "shape_attrs": {
           "r": 15
          },
          "value": null,
          "weight": 12,
          "x": 319.9153189635445,
          "y": 146.06078055853018
         }
        },
        {
         "source": {
          "index": 6,
          "label": "Mon Mothma",
          "label_display": "center",
          "movies": "Return of the Jedi",
          "name": "Mon Mothma",
          "px": 258.1629882238886,
          "py": 293.52469043567413,
          "shape": "circle",
          "shape_attrs": {
           "r": 15
          },
          "value": null,
          "weight": 10,
          "x": 258.18699722389607,
          "y": 293.5982562039828
         },
         "target": {
          "index": 0,
          "label": "Boba Fett",
          "label_display": "center",
          "movies": "The Empire Strikes Back, Return of the Jedi, Attack of the Clones",
          "name": "Boba Fett",
          "px": 352.7404700880388,
          "py": 332.9042651307518,
          "shape": "circle",
          "shape_attrs": {
           "r": 15
          },
          "value": null,
          "weight": 12,
          "x": 352.7508409735798,
          "y": 332.93336223144433
         }
        },
        {
         "source": {
          "index": 5,
          "label": "Beru Whitesun lars",
          "label_display": "center",
          "movies": "A New Hope, Attack of the Clones, Revenge of the Sith",
          "name": "Beru Whitesun lars",
          "px": 250.2959692015997,
          "py": 283.6720363103554,
          "shape": "circle",
          "shape_attrs": {
           "r": 15
          },
          "value": null,
          "weight": 10,
          "x": 250.23252943189567,
          "y": 283.6316137863465
         },
         "target": {
          "index": 1,
          "label": "Yoda",
          "label_display": "center",
          "movies": "The Empire Strikes Back, Return of the Jedi, The Phantom Menace, Attack of the Clones, Revenge of the Sith",
          "name": "Yoda",
          "px": 319.91183732116394,
          "py": 146.09054679987813,
          "shape": "circle",
          "shape_attrs": {
           "r": 15
          },
          "value": null,
          "weight": 12,
          "x": 319.9153189635445,
          "y": 146.06078055853018
         }
        },
        {
         "source": {
          "index": 5,
          "label": "Beru Whitesun lars",
          "label_display": "center",
          "movies": "A New Hope, Attack of the Clones, Revenge of the Sith",
          "name": "Beru Whitesun lars",
          "px": 250.2959692015997,
          "py": 283.6720363103554,
          "shape": "circle",
          "shape_attrs": {
           "r": 15
          },
          "value": null,
          "weight": 10,
          "x": 250.23252943189567,
          "y": 283.6316137863465
         },
         "target": {
          "index": 0,
          "label": "Boba Fett",
          "label_display": "center",
          "movies": "The Empire Strikes Back, Return of the Jedi, Attack of the Clones",
          "name": "Boba Fett",
          "px": 352.7404700880388,
          "py": 332.9042651307518,
          "shape": "circle",
          "shape_attrs": {
           "r": 15
          },
          "value": null,
          "weight": 12,
          "x": 352.7508409735798,
          "y": 332.93336223144433
         }
        },
        {
         "source": {
          "index": 1,
          "label": "Yoda",
          "label_display": "center",
          "movies": "The Empire Strikes Back, Return of the Jedi, The Phantom Menace, Attack of the Clones, Revenge of the Sith",
          "name": "Yoda",
          "px": 319.91183732116394,
          "py": 146.09054679987813,
          "shape": "circle",
          "shape_attrs": {
           "r": 15
          },
          "value": null,
          "weight": 12,
          "x": 319.9153189635445,
          "y": 146.06078055853018
         },
         "target": {
          "index": 5,
          "label": "Beru Whitesun lars",
          "label_display": "center",
          "movies": "A New Hope, Attack of the Clones, Revenge of the Sith",
          "name": "Beru Whitesun lars",
          "px": 250.2959692015997,
          "py": 283.6720363103554,
          "shape": "circle",
          "shape_attrs": {
           "r": 15
          },
          "value": null,
          "weight": 10,
          "x": 250.23252943189567,
          "y": 283.6316137863465
         }
        },
        {
         "source": {
          "index": 0,
          "label": "Boba Fett",
          "label_display": "center",
          "movies": "The Empire Strikes Back, Return of the Jedi, Attack of the Clones",
          "name": "Boba Fett",
          "px": 352.7404700880388,
          "py": 332.9042651307518,
          "shape": "circle",
          "shape_attrs": {
           "r": 15
          },
          "value": null,
          "weight": 12,
          "x": 352.7508409735798,
          "y": 332.93336223144433
         },
         "target": {
          "index": 5,
          "label": "Beru Whitesun lars",
          "label_display": "center",
          "movies": "A New Hope, Attack of the Clones, Revenge of the Sith",
          "name": "Beru Whitesun lars",
          "px": 250.2959692015997,
          "py": 283.6720363103554,
          "shape": "circle",
          "shape_attrs": {
           "r": 15
          },
          "value": null,
          "weight": 10,
          "x": 250.23252943189567,
          "y": 283.6316137863465
         }
        }
       ],
       "link_distance": 150,
       "link_matrix": {
        "type": "float",
        "values": []
       },
       "link_type": "line",
       "node_data": [
        {
         "index": 0,
         "label": "Boba Fett",
         "label_display": "center",
         "movies": "The Empire Strikes Back, Return of the Jedi, Attack of the Clones",
         "name": "Boba Fett",
         "px": 352.7404700880388,
         "py": 332.9042651307518,
         "shape": "circle",
         "shape_attrs": {
          "r": 15
         },
         "value": null,
         "weight": 12,
         "x": 352.7508409735798,
         "y": 332.93336223144433
        },
        {
         "index": 1,
         "label": "Yoda",
         "label_display": "center",
         "movies": "The Empire Strikes Back, Return of the Jedi, The Phantom Menace, Attack of the Clones, Revenge of the Sith",
         "name": "Yoda",
         "px": 319.91183732116394,
         "py": 146.09054679987813,
         "shape": "circle",
         "shape_attrs": {
          "r": 15
         },
         "value": null,
         "weight": 12,
         "x": 319.9153189635445,
         "y": 146.06078055853018
        },
        {
         "index": 2,
         "label": "Jabba Desilijic Tiure",
         "label_display": "center",
         "movies": "A New Hope, Return of the Jedi, The Phantom Menace",
         "name": "Jabba Desilijic Tiure",
         "px": 395.7590021349584,
         "py": 183.63334159014488,
         "shape": "circle",
         "shape_attrs": {
          "r": 15
         },
         "value": null,
         "weight": 12,
         "x": 395.78455442117746,
         "y": 183.61398762463205
        },
        {
         "fixed": 0,
         "index": 3,
         "label": "Darth Vader",
         "label_display": "center",
         "movies": "A New Hope, The Empire Strikes Back, Return of the Jedi, Revenge of the Sith",
         "name": "Darth Vader",
         "px": 240.15168714108015,
         "py": 181.85032366458358,
         "shape": "circle",
         "shape_attrs": {
          "r": 15
         },
         "value": null,
         "weight": 12,
         "x": 240.15168714108015,
         "y": 181.85032366458358
        },
        {
         "index": 4,
         "label": "Obi-Wan Kenobi",
         "label_display": "center",
         "movies": "A New Hope, The Empire Strikes Back, Return of the Jedi, The Phantom Menace, Attack of the Clones, Revenge of the Sith",
         "name": "Obi-Wan Kenobi",
         "px": 409.78436325521034,
         "py": 266.59413801842123,
         "shape": "circle",
         "shape_attrs": {
          "r": 15
         },
         "value": null,
         "weight": 12,
         "x": 409.81417444511385,
         "y": 266.6031626634246
        },
        {
         "index": 5,
         "label": "Beru Whitesun lars",
         "label_display": "center",
         "movies": "A New Hope, Attack of the Clones, Revenge of the Sith",
         "name": "Beru Whitesun lars",
         "px": 250.2959692015997,
         "py": 283.6720363103554,
         "shape": "circle",
         "shape_attrs": {
          "r": 15
         },
         "value": null,
         "weight": 10,
         "x": 250.23252943189567,
         "y": 283.6316137863465
        },
        {
         "index": 6,
         "label": "Mon Mothma",
         "label_display": "center",
         "movies": "Return of the Jedi",
         "name": "Mon Mothma",
         "px": 258.1629882238886,
         "py": 293.52469043567413,
         "shape": "circle",
         "shape_attrs": {
          "r": 15
         },
         "value": null,
         "weight": 10,
         "x": 258.18699722389607,
         "y": 293.5982562039828
        }
       ],
       "preserve_domain": {},
       "scales": {},
       "scales_metadata": {
        "color": {
         "dimension": "color"
        },
        "link_color": {
         "dimension": "link_color"
        },
        "x": {
         "dimension": "x",
         "orientation": "horizontal"
        },
        "y": {
         "dimension": "y",
         "orientation": "vertical"
        }
       },
       "selected": [],
       "selected_style": {},
       "tooltip": "IPY_MODEL_9e261568eba34b649b75ed394608b401",
       "tooltip_location": "mouse",
       "tooltip_style": {
        "opacity": 0.9
       },
       "unhovered_style": {},
       "unselected_style": {},
       "visible": true,
       "x": {
        "type": "float",
        "values": []
       },
       "y": {
        "type": "float",
        "values": []
       }
      }
     },
     "2ed2bc160d8543ce95d71c61a4f1aa89": {
      "model_module": "bqplot",
      "model_module_version": "^0.4.1",
      "model_name": "LinearScaleModel",
      "state": {
       "_model_module_version": "^0.4.1",
       "_view_module_version": "^0.4.1",
       "allow_padding": false,
       "max": 1,
       "min": 0,
       "stabilized": false
      }
     },
     "3913f18ab2744de1a457de0fdacd87dc": {
      "model_module": "bqplot",
      "model_module_version": "^0.4.1",
      "model_name": "LinearScaleModel",
      "state": {
       "_model_module_version": "^0.4.1",
       "_view_module_version": "^0.4.1",
       "allow_padding": false,
       "max": 1,
       "min": 0,
       "stabilized": false
      }
     },
     "3dd88bcaa059422fb2c7002a8c6c2f62": {
      "model_module": "@jupyter-widgets/base",
      "model_module_version": "1.1.0",
      "model_name": "LayoutModel",
      "state": {}
     },
     "43ce71e56ef34247b109f3291c5949e4": {
      "model_module": "bqplot",
      "model_module_version": "^0.4.1",
      "model_name": "TooltipModel",
      "state": {
       "_model_module_version": "^0.4.1",
       "_view_module_version": "^0.4.1",
       "fields": [
        "name",
        "movies"
       ],
       "layout": "IPY_MODEL_186562faf17d4d25a6e3dc50fc181781"
      }
     },
     "4bf9427e59e9415eb80c5d399d230928": {
      "model_module": "bqplot",
      "model_module_version": "^0.4.1",
      "model_name": "LinearScaleModel",
      "state": {
       "_model_module_version": "^0.4.1",
       "_view_module_version": "^0.4.1",
       "allow_padding": false,
       "max": 1,
       "min": 0,
       "stabilized": false
      }
     },
     "4c61d068461a4d89ad5c0bf392923303": {
      "model_module": "@jupyter-widgets/base",
      "model_module_version": "1.1.0",
      "model_name": "LayoutModel",
      "state": {
       "min_width": "125px"
      }
     },
     "5b82e65e9f614685991ae4077bff06b6": {
      "model_module": "bqplot",
      "model_module_version": "^0.4.1",
      "model_name": "GraphModel",
      "state": {
       "_model_module": "bqplot",
       "_model_module_version": "^0.4.1",
       "_view_count": null,
       "_view_module": "bqplot",
       "_view_module_version": "^0.4.1",
       "apply_clip": true,
       "charge": -500,
       "color": {
        "type": null,
        "values": null
       },
       "colors": [
        "#1f77b4",
        "#ff7f0e",
        "#2ca02c",
        "#d62728",
        "#9467bd",
        "#8c564b",
        "#e377c2",
        "#7f7f7f",
        "#bcbd22",
        "#17becf"
       ],
       "directed": true,
       "display_legend": false,
       "enable_hover": true,
       "highlight_links": true,
       "hovered_style": {},
       "interactions": {
        "click": "select",
        "hover": "tooltip"
       },
       "labels": [],
       "link_color": {
        "type": "float",
        "values": []
       },
       "link_data": [
        {
         "source": 3,
         "target": 5
        },
        {
         "source": 3,
         "target": 4
        },
        {
         "source": 3,
         "target": 2
        },
        {
         "source": 5,
         "target": 3
        },
        {
         "source": 5,
         "target": 4
        },
        {
         "source": 5,
         "target": 2
        },
        {
         "source": 4,
         "target": 3
        },
        {
         "source": 4,
         "target": 5
        },
        {
         "source": 4,
         "target": 2
        },
        {
         "source": 2,
         "target": 3
        },
        {
         "source": 2,
         "target": 5
        },
        {
         "source": 2,
         "target": 4
        },
        {
         "source": 3,
         "target": 1
        },
        {
         "source": 3,
         "target": 0
        },
        {
         "source": 4,
         "target": 1
        },
        {
         "source": 4,
         "target": 0
        },
        {
         "source": 1,
         "target": 3
        },
        {
         "source": 1,
         "target": 4
        },
        {
         "source": 1,
         "target": 0
        },
        {
         "source": 0,
         "target": 3
        },
        {
         "source": 0,
         "target": 4
        },
        {
         "source": 0,
         "target": 1
        },
        {
         "source": 3,
         "target": 6
        },
        {
         "source": 4,
         "target": 6
        },
        {
         "source": 2,
         "target": 1
        },
        {
         "source": 2,
         "target": 0
        },
        {
         "source": 2,
         "target": 6
        },
        {
         "source": 1,
         "target": 2
        },
        {
         "source": 1,
         "target": 6
        },
        {
         "source": 0,
         "target": 2
        },
        {
         "source": 0,
         "target": 6
        },
        {
         "source": 6,
         "target": 3
        },
        {
         "source": 6,
         "target": 4
        },
        {
         "source": 6,
         "target": 2
        },
        {
         "source": 6,
         "target": 1
        },
        {
         "source": 6,
         "target": 0
        },
        {
         "source": 5,
         "target": 1
        },
        {
         "source": 5,
         "target": 0
        },
        {
         "source": 1,
         "target": 5
        },
        {
         "source": 0,
         "target": 5
        }
       ],
       "link_distance": 250,
       "link_matrix": {
        "type": "float",
        "values": []
       },
       "link_type": "line",
       "node_data": [
        {
         "label": "Boba Fett",
         "label_display": "center",
         "movies": "The Empire Strikes Back, Return of the Jedi, Attack of the Clones",
         "name": "Boba Fett",
         "shape": "circle",
         "shape_attrs": {
          "r": 15
         },
         "value": null
        },
        {
         "label": "Yoda",
         "label_display": "center",
         "movies": "The Empire Strikes Back, Return of the Jedi, The Phantom Menace, Attack of the Clones, Revenge of the Sith",
         "name": "Yoda",
         "shape": "circle",
         "shape_attrs": {
          "r": 15
         },
         "value": null
        },
        {
         "label": "Jabba Desilijic Tiure",
         "label_display": "center",
         "movies": "A New Hope, Return of the Jedi, The Phantom Menace",
         "name": "Jabba Desilijic Tiure",
         "shape": "circle",
         "shape_attrs": {
          "r": 15
         },
         "value": null
        },
        {
         "label": "Darth Vader",
         "label_display": "center",
         "movies": "A New Hope, The Empire Strikes Back, Return of the Jedi, Revenge of the Sith",
         "name": "Darth Vader",
         "shape": "circle",
         "shape_attrs": {
          "r": 15
         },
         "value": null
        },
        {
         "label": "Obi-Wan Kenobi",
         "label_display": "center",
         "movies": "A New Hope, The Empire Strikes Back, Return of the Jedi, The Phantom Menace, Attack of the Clones, Revenge of the Sith",
         "name": "Obi-Wan Kenobi",
         "shape": "circle",
         "shape_attrs": {
          "r": 15
         },
         "value": null
        },
        {
         "label": "Beru Whitesun lars",
         "label_display": "center",
         "movies": "A New Hope, Attack of the Clones, Revenge of the Sith",
         "name": "Beru Whitesun lars",
         "shape": "circle",
         "shape_attrs": {
          "r": 15
         },
         "value": null
        },
        {
         "label": "Mon Mothma",
         "label_display": "center",
         "movies": "Return of the Jedi",
         "name": "Mon Mothma",
         "shape": "circle",
         "shape_attrs": {
          "r": 15
         },
         "value": null
        }
       ],
       "preserve_domain": {},
       "scales": {},
       "scales_metadata": {
        "color": {
         "dimension": "color"
        },
        "link_color": {
         "dimension": "link_color"
        },
        "x": {
         "dimension": "x",
         "orientation": "horizontal"
        },
        "y": {
         "dimension": "y",
         "orientation": "vertical"
        }
       },
       "selected": [
        3
       ],
       "selected_style": {},
       "tooltip": "IPY_MODEL_c44148289ff04059bad9254588419989",
       "tooltip_location": "mouse",
       "tooltip_style": {
        "opacity": 0.9
       },
       "unhovered_style": {},
       "unselected_style": {},
       "visible": true,
       "x": {
        "type": "float",
        "values": []
       },
       "y": {
        "type": "float",
        "values": []
       }
      }
     },
     "675c5d6039e24e40bb7245962bbed02e": {
      "model_module": "bqplot",
      "model_module_version": "^0.4.1",
      "model_name": "FigureModel",
      "state": {
       "_dom_classes": [],
       "_model_module_version": "^0.4.1",
       "_view_module_version": "^0.4.1",
       "layout": "IPY_MODEL_4c61d068461a4d89ad5c0bf392923303",
       "marks": [
        "IPY_MODEL_5b82e65e9f614685991ae4077bff06b6"
       ],
       "scale_x": "IPY_MODEL_3913f18ab2744de1a457de0fdacd87dc",
       "scale_y": "IPY_MODEL_fa54773df70c4bd8bf690450d26c5f14"
      }
     },
     "6df7df6877c34e53bcbb84dfa399b454": {
      "model_module": "@jupyter-widgets/base",
      "model_module_version": "1.1.0",
      "model_name": "LayoutModel",
      "state": {}
     },
     "7082e81c3de543ad947a75e6f1da54c6": {
      "model_module": "bqplot",
      "model_module_version": "^0.4.1",
      "model_name": "TooltipModel",
      "state": {
       "_model_module_version": "^0.4.1",
       "_view_module_version": "^0.4.1",
       "fields": [
        "name",
        "movies"
       ],
       "layout": "IPY_MODEL_3dd88bcaa059422fb2c7002a8c6c2f62"
      }
     },
     "70af5b96383f41ce900182fa949b0350": {
      "model_module": "bqplot",
      "model_module_version": "^0.4.1",
      "model_name": "TooltipModel",
      "state": {
       "_model_module_version": "^0.4.1",
       "_view_module_version": "^0.4.1",
       "fields": [
        "name",
        "movies"
       ],
       "layout": "IPY_MODEL_bf3a9e1343a5467392afddd65422c3b3"
      }
     },
     "70cae60678294566bbd085b6822358ae": {
      "model_module": "bqplot",
      "model_module_version": "^0.4.1",
      "model_name": "GraphModel",
      "state": {
       "_model_module": "bqplot",
       "_model_module_version": "^0.4.1",
       "_view_count": null,
       "_view_module": "bqplot",
       "_view_module_version": "^0.4.1",
       "apply_clip": true,
       "charge": -500,
       "color": {
        "type": null,
        "values": null
       },
       "colors": [
        "#1f77b4",
        "#ff7f0e",
        "#2ca02c",
        "#d62728",
        "#9467bd",
        "#8c564b",
        "#e377c2",
        "#7f7f7f",
        "#bcbd22",
        "#17becf"
       ],
       "directed": true,
       "display_legend": false,
       "enable_hover": true,
       "highlight_links": true,
       "hovered_style": {},
       "interactions": {
        "click": "select",
        "hover": "tooltip"
       },
       "labels": [],
       "link_color": {
        "type": "float",
        "values": []
       },
       "link_data": [
        {
         "source": {
          "fixed": 0,
          "index": 3,
          "label": "Darth Vader",
          "label_display": "center",
          "movies": "A New Hope, The Empire Strikes Back, Return of the Jedi, Revenge of the Sith",
          "name": "Darth Vader",
          "px": 336.06048794326983,
          "py": 403.67583395873794,
          "shape": "circle",
          "shape_attrs": {
           "r": 15
          },
          "value": null,
          "weight": 12,
          "x": 336.0731201305131,
          "y": 403.72201118079454
         },
         "target": {
          "index": 5,
          "label": "Beru Whitesun lars",
          "label_display": "center",
          "movies": "A New Hope, Attack of the Clones, Revenge of the Sith",
          "name": "Beru Whitesun lars",
          "px": 449.890767737004,
          "py": 277.17352050459726,
          "shape": "circle",
          "shape_attrs": {
           "r": 15
          },
          "value": null,
          "weight": 10,
          "x": 449.9069126068621,
          "y": 277.2855105970593
         }
        },
        {
         "source": {
          "fixed": 0,
          "index": 3,
          "label": "Darth Vader",
          "label_display": "center",
          "movies": "A New Hope, The Empire Strikes Back, Return of the Jedi, Revenge of the Sith",
          "name": "Darth Vader",
          "px": 336.06048794326983,
          "py": 403.67583395873794,
          "shape": "circle",
          "shape_attrs": {
           "r": 15
          },
          "value": null,
          "weight": 12,
          "x": 336.0731201305131,
          "y": 403.72201118079454
         },
         "target": {
          "index": 4,
          "label": "Obi-Wan Kenobi",
          "label_display": "center",
          "movies": "A New Hope, The Empire Strikes Back, Return of the Jedi, The Phantom Menace, Attack of the Clones, Revenge of the Sith",
          "name": "Obi-Wan Kenobi",
          "px": 399.0173109911468,
          "py": 96.35932416485655,
          "shape": "circle",
          "shape_attrs": {
           "r": 15
          },
          "value": null,
          "weight": 12,
          "x": 399.0345781863745,
          "y": 96.31360412047937
         }
        },
        {
         "source": {
          "fixed": 0,
          "index": 3,
          "label": "Darth Vader",
          "label_display": "center",
          "movies": "A New Hope, The Empire Strikes Back, Return of the Jedi, Revenge of the Sith",
          "name": "Darth Vader",
          "px": 336.06048794326983,
          "py": 403.67583395873794,
          "shape": "circle",
          "shape_attrs": {
           "r": 15
          },
          "value": null,
          "weight": 12,
          "x": 336.0731201305131,
          "y": 403.72201118079454
         },
         "target": {
          "fixed": 0,
          "index": 2,
          "label": "Jabba Desilijic Tiure",
          "label_display": "center",
          "movies": "A New Hope, Return of the Jedi, The Phantom Menace",
          "name": "Jabba Desilijic Tiure",
          "px": 203.07156513447805,
          "py": 344.99308398543167,
          "shape": "circle",
          "shape_attrs": {
           "r": 15
          },
          "value": null,
          "weight": 12,
          "x": 203.04136804853218,
          "y": 345.03189706451184
         }
        },
        {
         "source": {
          "index": 5,
          "label": "Beru Whitesun lars",
          "label_display": "center",
          "movies": "A New Hope, Attack of the Clones, Revenge of the Sith",
          "name": "Beru Whitesun lars",
          "px": 449.890767737004,
          "py": 277.17352050459726,
          "shape": "circle",
          "shape_attrs": {
           "r": 15
          },
          "value": null,
          "weight": 10,
          "x": 449.9069126068621,
          "y": 277.2855105970593
         },
         "target": {
          "fixed": 0,
          "index": 3,
          "label": "Darth Vader",
          "label_display": "center",
          "movies": "A New Hope, The Empire Strikes Back, Return of the Jedi, Revenge of the Sith",
          "name": "Darth Vader",
          "px": 336.06048794326983,
          "py": 403.67583395873794,
          "shape": "circle",
          "shape_attrs": {
           "r": 15
          },
          "value": null,
          "weight": 12,
          "x": 336.0731201305131,
          "y": 403.72201118079454
         }
        },
        {
         "source": {
          "index": 5,
          "label": "Beru Whitesun lars",
          "label_display": "center",
          "movies": "A New Hope, Attack of the Clones, Revenge of the Sith",
          "name": "Beru Whitesun lars",
          "px": 449.890767737004,
          "py": 277.17352050459726,
          "shape": "circle",
          "shape_attrs": {
           "r": 15
          },
          "value": null,
          "weight": 10,
          "x": 449.9069126068621,
          "y": 277.2855105970593
         },
         "target": {
          "index": 4,
          "label": "Obi-Wan Kenobi",
          "label_display": "center",
          "movies": "A New Hope, The Empire Strikes Back, Return of the Jedi, The Phantom Menace, Attack of the Clones, Revenge of the Sith",
          "name": "Obi-Wan Kenobi",
          "px": 399.0173109911468,
          "py": 96.35932416485655,
          "shape": "circle",
          "shape_attrs": {
           "r": 15
          },
          "value": null,
          "weight": 12,
          "x": 399.0345781863745,
          "y": 96.31360412047937
         }
        },
        {
         "source": {
          "index": 5,
          "label": "Beru Whitesun lars",
          "label_display": "center",
          "movies": "A New Hope, Attack of the Clones, Revenge of the Sith",
          "name": "Beru Whitesun lars",
          "px": 449.890767737004,
          "py": 277.17352050459726,
          "shape": "circle",
          "shape_attrs": {
           "r": 15
          },
          "value": null,
          "weight": 10,
          "x": 449.9069126068621,
          "y": 277.2855105970593
         },
         "target": {
          "fixed": 0,
          "index": 2,
          "label": "Jabba Desilijic Tiure",
          "label_display": "center",
          "movies": "A New Hope, Return of the Jedi, The Phantom Menace",
          "name": "Jabba Desilijic Tiure",
          "px": 203.07156513447805,
          "py": 344.99308398543167,
          "shape": "circle",
          "shape_attrs": {
           "r": 15
          },
          "value": null,
          "weight": 12,
          "x": 203.04136804853218,
          "y": 345.03189706451184
         }
        },
        {
         "source": {
          "index": 4,
          "label": "Obi-Wan Kenobi",
          "label_display": "center",
          "movies": "A New Hope, The Empire Strikes Back, Return of the Jedi, The Phantom Menace, Attack of the Clones, Revenge of the Sith",
          "name": "Obi-Wan Kenobi",
          "px": 399.0173109911468,
          "py": 96.35932416485655,
          "shape": "circle",
          "shape_attrs": {
           "r": 15
          },
          "value": null,
          "weight": 12,
          "x": 399.0345781863745,
          "y": 96.31360412047937
         },
         "target": {
          "fixed": 0,
          "index": 3,
          "label": "Darth Vader",
          "label_display": "center",
          "movies": "A New Hope, The Empire Strikes Back, Return of the Jedi, Revenge of the Sith",
          "name": "Darth Vader",
          "px": 336.06048794326983,
          "py": 403.67583395873794,
          "shape": "circle",
          "shape_attrs": {
           "r": 15
          },
          "value": null,
          "weight": 12,
          "x": 336.0731201305131,
          "y": 403.72201118079454
         }
        },
        {
         "source": {
          "index": 4,
          "label": "Obi-Wan Kenobi",
          "label_display": "center",
          "movies": "A New Hope, The Empire Strikes Back, Return of the Jedi, The Phantom Menace, Attack of the Clones, Revenge of the Sith",
          "name": "Obi-Wan Kenobi",
          "px": 399.0173109911468,
          "py": 96.35932416485655,
          "shape": "circle",
          "shape_attrs": {
           "r": 15
          },
          "value": null,
          "weight": 12,
          "x": 399.0345781863745,
          "y": 96.31360412047937
         },
         "target": {
          "index": 5,
          "label": "Beru Whitesun lars",
          "label_display": "center",
          "movies": "A New Hope, Attack of the Clones, Revenge of the Sith",
          "name": "Beru Whitesun lars",
          "px": 449.890767737004,
          "py": 277.17352050459726,
          "shape": "circle",
          "shape_attrs": {
           "r": 15
          },
          "value": null,
          "weight": 10,
          "x": 449.9069126068621,
          "y": 277.2855105970593
         }
        },
        {
         "source": {
          "index": 4,
          "label": "Obi-Wan Kenobi",
          "label_display": "center",
          "movies": "A New Hope, The Empire Strikes Back, Return of the Jedi, The Phantom Menace, Attack of the Clones, Revenge of the Sith",
          "name": "Obi-Wan Kenobi",
          "px": 399.0173109911468,
          "py": 96.35932416485655,
          "shape": "circle",
          "shape_attrs": {
           "r": 15
          },
          "value": null,
          "weight": 12,
          "x": 399.0345781863745,
          "y": 96.31360412047937
         },
         "target": {
          "fixed": 0,
          "index": 2,
          "label": "Jabba Desilijic Tiure",
          "label_display": "center",
          "movies": "A New Hope, Return of the Jedi, The Phantom Menace",
          "name": "Jabba Desilijic Tiure",
          "px": 203.07156513447805,
          "py": 344.99308398543167,
          "shape": "circle",
          "shape_attrs": {
           "r": 15
          },
          "value": null,
          "weight": 12,
          "x": 203.04136804853218,
          "y": 345.03189706451184
         }
        },
        {
         "source": {
          "fixed": 0,
          "index": 2,
          "label": "Jabba Desilijic Tiure",
          "label_display": "center",
          "movies": "A New Hope, Return of the Jedi, The Phantom Menace",
          "name": "Jabba Desilijic Tiure",
          "px": 203.07156513447805,
          "py": 344.99308398543167,
          "shape": "circle",
          "shape_attrs": {
           "r": 15
          },
          "value": null,
          "weight": 12,
          "x": 203.04136804853218,
          "y": 345.03189706451184
         },
         "target": {
          "fixed": 0,
          "index": 3,
          "label": "Darth Vader",
          "label_display": "center",
          "movies": "A New Hope, The Empire Strikes Back, Return of the Jedi, Revenge of the Sith",
          "name": "Darth Vader",
          "px": 336.06048794326983,
          "py": 403.67583395873794,
          "shape": "circle",
          "shape_attrs": {
           "r": 15
          },
          "value": null,
          "weight": 12,
          "x": 336.0731201305131,
          "y": 403.72201118079454
         }
        },
        {
         "source": {
          "fixed": 0,
          "index": 2,
          "label": "Jabba Desilijic Tiure",
          "label_display": "center",
          "movies": "A New Hope, Return of the Jedi, The Phantom Menace",
          "name": "Jabba Desilijic Tiure",
          "px": 203.07156513447805,
          "py": 344.99308398543167,
          "shape": "circle",
          "shape_attrs": {
           "r": 15
          },
          "value": null,
          "weight": 12,
          "x": 203.04136804853218,
          "y": 345.03189706451184
         },
         "target": {
          "index": 5,
          "label": "Beru Whitesun lars",
          "label_display": "center",
          "movies": "A New Hope, Attack of the Clones, Revenge of the Sith",
          "name": "Beru Whitesun lars",
          "px": 449.890767737004,
          "py": 277.17352050459726,
          "shape": "circle",
          "shape_attrs": {
           "r": 15
          },
          "value": null,
          "weight": 10,
          "x": 449.9069126068621,
          "y": 277.2855105970593
         }
        },
        {
         "source": {
          "fixed": 0,
          "index": 2,
          "label": "Jabba Desilijic Tiure",
          "label_display": "center",
          "movies": "A New Hope, Return of the Jedi, The Phantom Menace",
          "name": "Jabba Desilijic Tiure",
          "px": 203.07156513447805,
          "py": 344.99308398543167,
          "shape": "circle",
          "shape_attrs": {
           "r": 15
          },
          "value": null,
          "weight": 12,
          "x": 203.04136804853218,
          "y": 345.03189706451184
         },
         "target": {
          "index": 4,
          "label": "Obi-Wan Kenobi",
          "label_display": "center",
          "movies": "A New Hope, The Empire Strikes Back, Return of the Jedi, The Phantom Menace, Attack of the Clones, Revenge of the Sith",
          "name": "Obi-Wan Kenobi",
          "px": 399.0173109911468,
          "py": 96.35932416485655,
          "shape": "circle",
          "shape_attrs": {
           "r": 15
          },
          "value": null,
          "weight": 12,
          "x": 399.0345781863745,
          "y": 96.31360412047937
         }
        },
        {
         "source": {
          "fixed": 0,
          "index": 3,
          "label": "Darth Vader",
          "label_display": "center",
          "movies": "A New Hope, The Empire Strikes Back, Return of the Jedi, Revenge of the Sith",
          "name": "Darth Vader",
          "px": 336.06048794326983,
          "py": 403.67583395873794,
          "shape": "circle",
          "shape_attrs": {
           "r": 15
          },
          "value": null,
          "weight": 12,
          "x": 336.0731201305131,
          "y": 403.72201118079454
         },
         "target": {
          "fixed": 0,
          "index": 1,
          "label": "Yoda",
          "label_display": "center",
          "movies": "The Empire Strikes Back, Return of the Jedi, The Phantom Menace, Attack of the Clones, Revenge of the Sith",
          "name": "Yoda",
          "px": 253.12028062718616,
          "py": 98.84352349810777,
          "shape": "circle",
          "shape_attrs": {
           "r": 15
          },
          "value": null,
          "weight": 12,
          "x": 253.09412410389194,
          "y": 98.80591677601137
         }
        },
        {
         "source": {
          "fixed": 0,
          "index": 3,
          "label": "Darth Vader",
          "label_display": "center",
          "movies": "A New Hope, The Empire Strikes Back, Return of the Jedi, Revenge of the Sith",
          "name": "Darth Vader",
          "px": 336.06048794326983,
          "py": 403.67583395873794,
          "shape": "circle",
          "shape_attrs": {
           "r": 15
          },
          "value": null,
          "weight": 12,
          "x": 336.0731201305131,
          "y": 403.72201118079454
         },
         "target": {
          "index": 0,
          "label": "Boba Fett",
          "label_display": "center",
          "movies": "The Empire Strikes Back, Return of the Jedi, Attack of the Clones",
          "name": "Boba Fett",
          "px": 165.77512692779902,
          "py": 208.9654633843387,
          "shape": "circle",
          "shape_attrs": {
           "r": 15
          },
          "value": null,
          "weight": 12,
          "x": 165.72871791869494,
          "y": 208.9645851755029
         }
        },
        {
         "source": {
          "index": 4,
          "label": "Obi-Wan Kenobi",
          "label_display": "center",
          "movies": "A New Hope, The Empire Strikes Back, Return of the Jedi, The Phantom Menace, Attack of the Clones, Revenge of the Sith",
          "name": "Obi-Wan Kenobi",
          "px": 399.0173109911468,
          "py": 96.35932416485655,
          "shape": "circle",
          "shape_attrs": {
           "r": 15
          },
          "value": null,
          "weight": 12,
          "x": 399.0345781863745,
          "y": 96.31360412047937
         },
         "target": {
          "fixed": 0,
          "index": 1,
          "label": "Yoda",
          "label_display": "center",
          "movies": "The Empire Strikes Back, Return of the Jedi, The Phantom Menace, Attack of the Clones, Revenge of the Sith",
          "name": "Yoda",
          "px": 253.12028062718616,
          "py": 98.84352349810777,
          "shape": "circle",
          "shape_attrs": {
           "r": 15
          },
          "value": null,
          "weight": 12,
          "x": 253.09412410389194,
          "y": 98.80591677601137
         }
        },
        {
         "source": {
          "index": 4,
          "label": "Obi-Wan Kenobi",
          "label_display": "center",
          "movies": "A New Hope, The Empire Strikes Back, Return of the Jedi, The Phantom Menace, Attack of the Clones, Revenge of the Sith",
          "name": "Obi-Wan Kenobi",
          "px": 399.0173109911468,
          "py": 96.35932416485655,
          "shape": "circle",
          "shape_attrs": {
           "r": 15
          },
          "value": null,
          "weight": 12,
          "x": 399.0345781863745,
          "y": 96.31360412047937
         },
         "target": {
          "index": 0,
          "label": "Boba Fett",
          "label_display": "center",
          "movies": "The Empire Strikes Back, Return of the Jedi, Attack of the Clones",
          "name": "Boba Fett",
          "px": 165.77512692779902,
          "py": 208.9654633843387,
          "shape": "circle",
          "shape_attrs": {
           "r": 15
          },
          "value": null,
          "weight": 12,
          "x": 165.72871791869494,
          "y": 208.9645851755029
         }
        },
        {
         "source": {
          "fixed": 0,
          "index": 1,
          "label": "Yoda",
          "label_display": "center",
          "movies": "The Empire Strikes Back, Return of the Jedi, The Phantom Menace, Attack of the Clones, Revenge of the Sith",
          "name": "Yoda",
          "px": 253.12028062718616,
          "py": 98.84352349810777,
          "shape": "circle",
          "shape_attrs": {
           "r": 15
          },
          "value": null,
          "weight": 12,
          "x": 253.09412410389194,
          "y": 98.80591677601137
         },
         "target": {
          "fixed": 0,
          "index": 3,
          "label": "Darth Vader",
          "label_display": "center",
          "movies": "A New Hope, The Empire Strikes Back, Return of the Jedi, Revenge of the Sith",
          "name": "Darth Vader",
          "px": 336.06048794326983,
          "py": 403.67583395873794,
          "shape": "circle",
          "shape_attrs": {
           "r": 15
          },
          "value": null,
          "weight": 12,
          "x": 336.0731201305131,
          "y": 403.72201118079454
         }
        },
        {
         "source": {
          "fixed": 0,
          "index": 1,
          "label": "Yoda",
          "label_display": "center",
          "movies": "The Empire Strikes Back, Return of the Jedi, The Phantom Menace, Attack of the Clones, Revenge of the Sith",
          "name": "Yoda",
          "px": 253.12028062718616,
          "py": 98.84352349810777,
          "shape": "circle",
          "shape_attrs": {
           "r": 15
          },
          "value": null,
          "weight": 12,
          "x": 253.09412410389194,
          "y": 98.80591677601137
         },
         "target": {
          "index": 4,
          "label": "Obi-Wan Kenobi",
          "label_display": "center",
          "movies": "A New Hope, The Empire Strikes Back, Return of the Jedi, The Phantom Menace, Attack of the Clones, Revenge of the Sith",
          "name": "Obi-Wan Kenobi",
          "px": 399.0173109911468,
          "py": 96.35932416485655,
          "shape": "circle",
          "shape_attrs": {
           "r": 15
          },
          "value": null,
          "weight": 12,
          "x": 399.0345781863745,
          "y": 96.31360412047937
         }
        },
        {
         "source": {
          "fixed": 0,
          "index": 1,
          "label": "Yoda",
          "label_display": "center",
          "movies": "The Empire Strikes Back, Return of the Jedi, The Phantom Menace, Attack of the Clones, Revenge of the Sith",
          "name": "Yoda",
          "px": 253.12028062718616,
          "py": 98.84352349810777,
          "shape": "circle",
          "shape_attrs": {
           "r": 15
          },
          "value": null,
          "weight": 12,
          "x": 253.09412410389194,
          "y": 98.80591677601137
         },
         "target": {
          "index": 0,
          "label": "Boba Fett",
          "label_display": "center",
          "movies": "The Empire Strikes Back, Return of the Jedi, Attack of the Clones",
          "name": "Boba Fett",
          "px": 165.77512692779902,
          "py": 208.9654633843387,
          "shape": "circle",
          "shape_attrs": {
           "r": 15
          },
          "value": null,
          "weight": 12,
          "x": 165.72871791869494,
          "y": 208.9645851755029
         }
        },
        {
         "source": {
          "index": 0,
          "label": "Boba Fett",
          "label_display": "center",
          "movies": "The Empire Strikes Back, Return of the Jedi, Attack of the Clones",
          "name": "Boba Fett",
          "px": 165.77512692779902,
          "py": 208.9654633843387,
          "shape": "circle",
          "shape_attrs": {
           "r": 15
          },
          "value": null,
          "weight": 12,
          "x": 165.72871791869494,
          "y": 208.9645851755029
         },
         "target": {
          "fixed": 0,
          "index": 3,
          "label": "Darth Vader",
          "label_display": "center",
          "movies": "A New Hope, The Empire Strikes Back, Return of the Jedi, Revenge of the Sith",
          "name": "Darth Vader",
          "px": 336.06048794326983,
          "py": 403.67583395873794,
          "shape": "circle",
          "shape_attrs": {
           "r": 15
          },
          "value": null,
          "weight": 12,
          "x": 336.0731201305131,
          "y": 403.72201118079454
         }
        },
        {
         "source": {
          "index": 0,
          "label": "Boba Fett",
          "label_display": "center",
          "movies": "The Empire Strikes Back, Return of the Jedi, Attack of the Clones",
          "name": "Boba Fett",
          "px": 165.77512692779902,
          "py": 208.9654633843387,
          "shape": "circle",
          "shape_attrs": {
           "r": 15
          },
          "value": null,
          "weight": 12,
          "x": 165.72871791869494,
          "y": 208.9645851755029
         },
         "target": {
          "index": 4,
          "label": "Obi-Wan Kenobi",
          "label_display": "center",
          "movies": "A New Hope, The Empire Strikes Back, Return of the Jedi, The Phantom Menace, Attack of the Clones, Revenge of the Sith",
          "name": "Obi-Wan Kenobi",
          "px": 399.0173109911468,
          "py": 96.35932416485655,
          "shape": "circle",
          "shape_attrs": {
           "r": 15
          },
          "value": null,
          "weight": 12,
          "x": 399.0345781863745,
          "y": 96.31360412047937
         }
        },
        {
         "source": {
          "index": 0,
          "label": "Boba Fett",
          "label_display": "center",
          "movies": "The Empire Strikes Back, Return of the Jedi, Attack of the Clones",
          "name": "Boba Fett",
          "px": 165.77512692779902,
          "py": 208.9654633843387,
          "shape": "circle",
          "shape_attrs": {
           "r": 15
          },
          "value": null,
          "weight": 12,
          "x": 165.72871791869494,
          "y": 208.9645851755029
         },
         "target": {
          "fixed": 0,
          "index": 1,
          "label": "Yoda",
          "label_display": "center",
          "movies": "The Empire Strikes Back, Return of the Jedi, The Phantom Menace, Attack of the Clones, Revenge of the Sith",
          "name": "Yoda",
          "px": 253.12028062718616,
          "py": 98.84352349810777,
          "shape": "circle",
          "shape_attrs": {
           "r": 15
          },
          "value": null,
          "weight": 12,
          "x": 253.09412410389194,
          "y": 98.80591677601137
         }
        },
        {
         "source": {
          "fixed": 0,
          "index": 3,
          "label": "Darth Vader",
          "label_display": "center",
          "movies": "A New Hope, The Empire Strikes Back, Return of the Jedi, Revenge of the Sith",
          "name": "Darth Vader",
          "px": 336.06048794326983,
          "py": 403.67583395873794,
          "shape": "circle",
          "shape_attrs": {
           "r": 15
          },
          "value": null,
          "weight": 12,
          "x": 336.0731201305131,
          "y": 403.72201118079454
         },
         "target": {
          "index": 6,
          "label": "Mon Mothma",
          "label_display": "center",
          "movies": "Return of the Jedi",
          "name": "Mon Mothma",
          "px": 454.77072286274506,
          "py": 257.94610742036286,
          "shape": "circle",
          "shape_attrs": {
           "r": 15
          },
          "value": null,
          "weight": 10,
          "x": 454.83583436123826,
          "y": 257.83594063226036
         }
        },
        {
         "source": {
          "index": 4,
          "label": "Obi-Wan Kenobi",
          "label_display": "center",
          "movies": "A New Hope, The Empire Strikes Back, Return of the Jedi, The Phantom Menace, Attack of the Clones, Revenge of the Sith",
          "name": "Obi-Wan Kenobi",
          "px": 399.0173109911468,
          "py": 96.35932416485655,
          "shape": "circle",
          "shape_attrs": {
           "r": 15
          },
          "value": null,
          "weight": 12,
          "x": 399.0345781863745,
          "y": 96.31360412047937
         },
         "target": {
          "index": 6,
          "label": "Mon Mothma",
          "label_display": "center",
          "movies": "Return of the Jedi",
          "name": "Mon Mothma",
          "px": 454.77072286274506,
          "py": 257.94610742036286,
          "shape": "circle",
          "shape_attrs": {
           "r": 15
          },
          "value": null,
          "weight": 10,
          "x": 454.83583436123826,
          "y": 257.83594063226036
         }
        },
        {
         "source": {
          "fixed": 0,
          "index": 2,
          "label": "Jabba Desilijic Tiure",
          "label_display": "center",
          "movies": "A New Hope, Return of the Jedi, The Phantom Menace",
          "name": "Jabba Desilijic Tiure",
          "px": 203.07156513447805,
          "py": 344.99308398543167,
          "shape": "circle",
          "shape_attrs": {
           "r": 15
          },
          "value": null,
          "weight": 12,
          "x": 203.04136804853218,
          "y": 345.03189706451184
         },
         "target": {
          "fixed": 0,
          "index": 1,
          "label": "Yoda",
          "label_display": "center",
          "movies": "The Empire Strikes Back, Return of the Jedi, The Phantom Menace, Attack of the Clones, Revenge of the Sith",
          "name": "Yoda",
          "px": 253.12028062718616,
          "py": 98.84352349810777,
          "shape": "circle",
          "shape_attrs": {
           "r": 15
          },
          "value": null,
          "weight": 12,
          "x": 253.09412410389194,
          "y": 98.80591677601137
         }
        },
        {
         "source": {
          "fixed": 0,
          "index": 2,
          "label": "Jabba Desilijic Tiure",
          "label_display": "center",
          "movies": "A New Hope, Return of the Jedi, The Phantom Menace",
          "name": "Jabba Desilijic Tiure",
          "px": 203.07156513447805,
          "py": 344.99308398543167,
          "shape": "circle",
          "shape_attrs": {
           "r": 15
          },
          "value": null,
          "weight": 12,
          "x": 203.04136804853218,
          "y": 345.03189706451184
         },
         "target": {
          "index": 0,
          "label": "Boba Fett",
          "label_display": "center",
          "movies": "The Empire Strikes Back, Return of the Jedi, Attack of the Clones",
          "name": "Boba Fett",
          "px": 165.77512692779902,
          "py": 208.9654633843387,
          "shape": "circle",
          "shape_attrs": {
           "r": 15
          },
          "value": null,
          "weight": 12,
          "x": 165.72871791869494,
          "y": 208.9645851755029
         }
        },
        {
         "source": {
          "fixed": 0,
          "index": 2,
          "label": "Jabba Desilijic Tiure",
          "label_display": "center",
          "movies": "A New Hope, Return of the Jedi, The Phantom Menace",
          "name": "Jabba Desilijic Tiure",
          "px": 203.07156513447805,
          "py": 344.99308398543167,
          "shape": "circle",
          "shape_attrs": {
           "r": 15
          },
          "value": null,
          "weight": 12,
          "x": 203.04136804853218,
          "y": 345.03189706451184
         },
         "target": {
          "index": 6,
          "label": "Mon Mothma",
          "label_display": "center",
          "movies": "Return of the Jedi",
          "name": "Mon Mothma",
          "px": 454.77072286274506,
          "py": 257.94610742036286,
          "shape": "circle",
          "shape_attrs": {
           "r": 15
          },
          "value": null,
          "weight": 10,
          "x": 454.83583436123826,
          "y": 257.83594063226036
         }
        },
        {
         "source": {
          "fixed": 0,
          "index": 1,
          "label": "Yoda",
          "label_display": "center",
          "movies": "The Empire Strikes Back, Return of the Jedi, The Phantom Menace, Attack of the Clones, Revenge of the Sith",
          "name": "Yoda",
          "px": 253.12028062718616,
          "py": 98.84352349810777,
          "shape": "circle",
          "shape_attrs": {
           "r": 15
          },
          "value": null,
          "weight": 12,
          "x": 253.09412410389194,
          "y": 98.80591677601137
         },
         "target": {
          "fixed": 0,
          "index": 2,
          "label": "Jabba Desilijic Tiure",
          "label_display": "center",
          "movies": "A New Hope, Return of the Jedi, The Phantom Menace",
          "name": "Jabba Desilijic Tiure",
          "px": 203.07156513447805,
          "py": 344.99308398543167,
          "shape": "circle",
          "shape_attrs": {
           "r": 15
          },
          "value": null,
          "weight": 12,
          "x": 203.04136804853218,
          "y": 345.03189706451184
         }
        },
        {
         "source": {
          "fixed": 0,
          "index": 1,
          "label": "Yoda",
          "label_display": "center",
          "movies": "The Empire Strikes Back, Return of the Jedi, The Phantom Menace, Attack of the Clones, Revenge of the Sith",
          "name": "Yoda",
          "px": 253.12028062718616,
          "py": 98.84352349810777,
          "shape": "circle",
          "shape_attrs": {
           "r": 15
          },
          "value": null,
          "weight": 12,
          "x": 253.09412410389194,
          "y": 98.80591677601137
         },
         "target": {
          "index": 6,
          "label": "Mon Mothma",
          "label_display": "center",
          "movies": "Return of the Jedi",
          "name": "Mon Mothma",
          "px": 454.77072286274506,
          "py": 257.94610742036286,
          "shape": "circle",
          "shape_attrs": {
           "r": 15
          },
          "value": null,
          "weight": 10,
          "x": 454.83583436123826,
          "y": 257.83594063226036
         }
        },
        {
         "source": {
          "index": 0,
          "label": "Boba Fett",
          "label_display": "center",
          "movies": "The Empire Strikes Back, Return of the Jedi, Attack of the Clones",
          "name": "Boba Fett",
          "px": 165.77512692779902,
          "py": 208.9654633843387,
          "shape": "circle",
          "shape_attrs": {
           "r": 15
          },
          "value": null,
          "weight": 12,
          "x": 165.72871791869494,
          "y": 208.9645851755029
         },
         "target": {
          "fixed": 0,
          "index": 2,
          "label": "Jabba Desilijic Tiure",
          "label_display": "center",
          "movies": "A New Hope, Return of the Jedi, The Phantom Menace",
          "name": "Jabba Desilijic Tiure",
          "px": 203.07156513447805,
          "py": 344.99308398543167,
          "shape": "circle",
          "shape_attrs": {
           "r": 15
          },
          "value": null,
          "weight": 12,
          "x": 203.04136804853218,
          "y": 345.03189706451184
         }
        },
        {
         "source": {
          "index": 0,
          "label": "Boba Fett",
          "label_display": "center",
          "movies": "The Empire Strikes Back, Return of the Jedi, Attack of the Clones",
          "name": "Boba Fett",
          "px": 165.77512692779902,
          "py": 208.9654633843387,
          "shape": "circle",
          "shape_attrs": {
           "r": 15
          },
          "value": null,
          "weight": 12,
          "x": 165.72871791869494,
          "y": 208.9645851755029
         },
         "target": {
          "index": 6,
          "label": "Mon Mothma",
          "label_display": "center",
          "movies": "Return of the Jedi",
          "name": "Mon Mothma",
          "px": 454.77072286274506,
          "py": 257.94610742036286,
          "shape": "circle",
          "shape_attrs": {
           "r": 15
          },
          "value": null,
          "weight": 10,
          "x": 454.83583436123826,
          "y": 257.83594063226036
         }
        },
        {
         "source": {
          "index": 6,
          "label": "Mon Mothma",
          "label_display": "center",
          "movies": "Return of the Jedi",
          "name": "Mon Mothma",
          "px": 454.77072286274506,
          "py": 257.94610742036286,
          "shape": "circle",
          "shape_attrs": {
           "r": 15
          },
          "value": null,
          "weight": 10,
          "x": 454.83583436123826,
          "y": 257.83594063226036
         },
         "target": {
          "fixed": 0,
          "index": 3,
          "label": "Darth Vader",
          "label_display": "center",
          "movies": "A New Hope, The Empire Strikes Back, Return of the Jedi, Revenge of the Sith",
          "name": "Darth Vader",
          "px": 336.06048794326983,
          "py": 403.67583395873794,
          "shape": "circle",
          "shape_attrs": {
           "r": 15
          },
          "value": null,
          "weight": 12,
          "x": 336.0731201305131,
          "y": 403.72201118079454
         }
        },
        {
         "source": {
          "index": 6,
          "label": "Mon Mothma",
          "label_display": "center",
          "movies": "Return of the Jedi",
          "name": "Mon Mothma",
          "px": 454.77072286274506,
          "py": 257.94610742036286,
          "shape": "circle",
          "shape_attrs": {
           "r": 15
          },
          "value": null,
          "weight": 10,
          "x": 454.83583436123826,
          "y": 257.83594063226036
         },
         "target": {
          "index": 4,
          "label": "Obi-Wan Kenobi",
          "label_display": "center",
          "movies": "A New Hope, The Empire Strikes Back, Return of the Jedi, The Phantom Menace, Attack of the Clones, Revenge of the Sith",
          "name": "Obi-Wan Kenobi",
          "px": 399.0173109911468,
          "py": 96.35932416485655,
          "shape": "circle",
          "shape_attrs": {
           "r": 15
          },
          "value": null,
          "weight": 12,
          "x": 399.0345781863745,
          "y": 96.31360412047937
         }
        },
        {
         "source": {
          "index": 6,
          "label": "Mon Mothma",
          "label_display": "center",
          "movies": "Return of the Jedi",
          "name": "Mon Mothma",
          "px": 454.77072286274506,
          "py": 257.94610742036286,
          "shape": "circle",
          "shape_attrs": {
           "r": 15
          },
          "value": null,
          "weight": 10,
          "x": 454.83583436123826,
          "y": 257.83594063226036
         },
         "target": {
          "fixed": 0,
          "index": 2,
          "label": "Jabba Desilijic Tiure",
          "label_display": "center",
          "movies": "A New Hope, Return of the Jedi, The Phantom Menace",
          "name": "Jabba Desilijic Tiure",
          "px": 203.07156513447805,
          "py": 344.99308398543167,
          "shape": "circle",
          "shape_attrs": {
           "r": 15
          },
          "value": null,
          "weight": 12,
          "x": 203.04136804853218,
          "y": 345.03189706451184
         }
        },
        {
         "source": {
          "index": 6,
          "label": "Mon Mothma",
          "label_display": "center",
          "movies": "Return of the Jedi",
          "name": "Mon Mothma",
          "px": 454.77072286274506,
          "py": 257.94610742036286,
          "shape": "circle",
          "shape_attrs": {
           "r": 15
          },
          "value": null,
          "weight": 10,
          "x": 454.83583436123826,
          "y": 257.83594063226036
         },
         "target": {
          "fixed": 0,
          "index": 1,
          "label": "Yoda",
          "label_display": "center",
          "movies": "The Empire Strikes Back, Return of the Jedi, The Phantom Menace, Attack of the Clones, Revenge of the Sith",
          "name": "Yoda",
          "px": 253.12028062718616,
          "py": 98.84352349810777,
          "shape": "circle",
          "shape_attrs": {
           "r": 15
          },
          "value": null,
          "weight": 12,
          "x": 253.09412410389194,
          "y": 98.80591677601137
         }
        },
        {
         "source": {
          "index": 6,
          "label": "Mon Mothma",
          "label_display": "center",
          "movies": "Return of the Jedi",
          "name": "Mon Mothma",
          "px": 454.77072286274506,
          "py": 257.94610742036286,
          "shape": "circle",
          "shape_attrs": {
           "r": 15
          },
          "value": null,
          "weight": 10,
          "x": 454.83583436123826,
          "y": 257.83594063226036
         },
         "target": {
          "index": 0,
          "label": "Boba Fett",
          "label_display": "center",
          "movies": "The Empire Strikes Back, Return of the Jedi, Attack of the Clones",
          "name": "Boba Fett",
          "px": 165.77512692779902,
          "py": 208.9654633843387,
          "shape": "circle",
          "shape_attrs": {
           "r": 15
          },
          "value": null,
          "weight": 12,
          "x": 165.72871791869494,
          "y": 208.9645851755029
         }
        },
        {
         "source": {
          "index": 5,
          "label": "Beru Whitesun lars",
          "label_display": "center",
          "movies": "A New Hope, Attack of the Clones, Revenge of the Sith",
          "name": "Beru Whitesun lars",
          "px": 449.890767737004,
          "py": 277.17352050459726,
          "shape": "circle",
          "shape_attrs": {
           "r": 15
          },
          "value": null,
          "weight": 10,
          "x": 449.9069126068621,
          "y": 277.2855105970593
         },
         "target": {
          "fixed": 0,
          "index": 1,
          "label": "Yoda",
          "label_display": "center",
          "movies": "The Empire Strikes Back, Return of the Jedi, The Phantom Menace, Attack of the Clones, Revenge of the Sith",
          "name": "Yoda",
          "px": 253.12028062718616,
          "py": 98.84352349810777,
          "shape": "circle",
          "shape_attrs": {
           "r": 15
          },
          "value": null,
          "weight": 12,
          "x": 253.09412410389194,
          "y": 98.80591677601137
         }
        },
        {
         "source": {
          "index": 5,
          "label": "Beru Whitesun lars",
          "label_display": "center",
          "movies": "A New Hope, Attack of the Clones, Revenge of the Sith",
          "name": "Beru Whitesun lars",
          "px": 449.890767737004,
          "py": 277.17352050459726,
          "shape": "circle",
          "shape_attrs": {
           "r": 15
          },
          "value": null,
          "weight": 10,
          "x": 449.9069126068621,
          "y": 277.2855105970593
         },
         "target": {
          "index": 0,
          "label": "Boba Fett",
          "label_display": "center",
          "movies": "The Empire Strikes Back, Return of the Jedi, Attack of the Clones",
          "name": "Boba Fett",
          "px": 165.77512692779902,
          "py": 208.9654633843387,
          "shape": "circle",
          "shape_attrs": {
           "r": 15
          },
          "value": null,
          "weight": 12,
          "x": 165.72871791869494,
          "y": 208.9645851755029
         }
        },
        {
         "source": {
          "fixed": 0,
          "index": 1,
          "label": "Yoda",
          "label_display": "center",
          "movies": "The Empire Strikes Back, Return of the Jedi, The Phantom Menace, Attack of the Clones, Revenge of the Sith",
          "name": "Yoda",
          "px": 253.12028062718616,
          "py": 98.84352349810777,
          "shape": "circle",
          "shape_attrs": {
           "r": 15
          },
          "value": null,
          "weight": 12,
          "x": 253.09412410389194,
          "y": 98.80591677601137
         },
         "target": {
          "index": 5,
          "label": "Beru Whitesun lars",
          "label_display": "center",
          "movies": "A New Hope, Attack of the Clones, Revenge of the Sith",
          "name": "Beru Whitesun lars",
          "px": 449.890767737004,
          "py": 277.17352050459726,
          "shape": "circle",
          "shape_attrs": {
           "r": 15
          },
          "value": null,
          "weight": 10,
          "x": 449.9069126068621,
          "y": 277.2855105970593
         }
        },
        {
         "source": {
          "index": 0,
          "label": "Boba Fett",
          "label_display": "center",
          "movies": "The Empire Strikes Back, Return of the Jedi, Attack of the Clones",
          "name": "Boba Fett",
          "px": 165.77512692779902,
          "py": 208.9654633843387,
          "shape": "circle",
          "shape_attrs": {
           "r": 15
          },
          "value": null,
          "weight": 12,
          "x": 165.72871791869494,
          "y": 208.9645851755029
         },
         "target": {
          "index": 5,
          "label": "Beru Whitesun lars",
          "label_display": "center",
          "movies": "A New Hope, Attack of the Clones, Revenge of the Sith",
          "name": "Beru Whitesun lars",
          "px": 449.890767737004,
          "py": 277.17352050459726,
          "shape": "circle",
          "shape_attrs": {
           "r": 15
          },
          "value": null,
          "weight": 10,
          "x": 449.9069126068621,
          "y": 277.2855105970593
         }
        }
       ],
       "link_distance": 250,
       "link_matrix": {
        "type": "float",
        "values": []
       },
       "link_type": "line",
       "node_data": [
        {
         "index": 0,
         "label": "Boba Fett",
         "label_display": "center",
         "movies": "The Empire Strikes Back, Return of the Jedi, Attack of the Clones",
         "name": "Boba Fett",
         "px": 165.77512692779902,
         "py": 208.9654633843387,
         "shape": "circle",
         "shape_attrs": {
          "r": 15
         },
         "value": null,
         "weight": 12,
         "x": 165.72871791869494,
         "y": 208.9645851755029
        },
        {
         "fixed": 0,
         "index": 1,
         "label": "Yoda",
         "label_display": "center",
         "movies": "The Empire Strikes Back, Return of the Jedi, The Phantom Menace, Attack of the Clones, Revenge of the Sith",
         "name": "Yoda",
         "px": 253.12028062718616,
         "py": 98.84352349810777,
         "shape": "circle",
         "shape_attrs": {
          "r": 15
         },
         "value": null,
         "weight": 12,
         "x": 253.09412410389194,
         "y": 98.80591677601137
        },
        {
         "fixed": 0,
         "index": 2,
         "label": "Jabba Desilijic Tiure",
         "label_display": "center",
         "movies": "A New Hope, Return of the Jedi, The Phantom Menace",
         "name": "Jabba Desilijic Tiure",
         "px": 203.07156513447805,
         "py": 344.99308398543167,
         "shape": "circle",
         "shape_attrs": {
          "r": 15
         },
         "value": null,
         "weight": 12,
         "x": 203.04136804853218,
         "y": 345.03189706451184
        },
        {
         "fixed": 0,
         "index": 3,
         "label": "Darth Vader",
         "label_display": "center",
         "movies": "A New Hope, The Empire Strikes Back, Return of the Jedi, Revenge of the Sith",
         "name": "Darth Vader",
         "px": 336.06048794326983,
         "py": 403.67583395873794,
         "shape": "circle",
         "shape_attrs": {
          "r": 15
         },
         "value": null,
         "weight": 12,
         "x": 336.0731201305131,
         "y": 403.72201118079454
        },
        {
         "index": 4,
         "label": "Obi-Wan Kenobi",
         "label_display": "center",
         "movies": "A New Hope, The Empire Strikes Back, Return of the Jedi, The Phantom Menace, Attack of the Clones, Revenge of the Sith",
         "name": "Obi-Wan Kenobi",
         "px": 399.0173109911468,
         "py": 96.35932416485655,
         "shape": "circle",
         "shape_attrs": {
          "r": 15
         },
         "value": null,
         "weight": 12,
         "x": 399.0345781863745,
         "y": 96.31360412047937
        },
        {
         "index": 5,
         "label": "Beru Whitesun lars",
         "label_display": "center",
         "movies": "A New Hope, Attack of the Clones, Revenge of the Sith",
         "name": "Beru Whitesun lars",
         "px": 449.890767737004,
         "py": 277.17352050459726,
         "shape": "circle",
         "shape_attrs": {
          "r": 15
         },
         "value": null,
         "weight": 10,
         "x": 449.9069126068621,
         "y": 277.2855105970593
        },
        {
         "index": 6,
         "label": "Mon Mothma",
         "label_display": "center",
         "movies": "Return of the Jedi",
         "name": "Mon Mothma",
         "px": 454.77072286274506,
         "py": 257.94610742036286,
         "shape": "circle",
         "shape_attrs": {
          "r": 15
         },
         "value": null,
         "weight": 10,
         "x": 454.83583436123826,
         "y": 257.83594063226036
        }
       ],
       "preserve_domain": {},
       "scales": {},
       "scales_metadata": {
        "color": {
         "dimension": "color"
        },
        "link_color": {
         "dimension": "link_color"
        },
        "x": {
         "dimension": "x",
         "orientation": "horizontal"
        },
        "y": {
         "dimension": "y",
         "orientation": "vertical"
        }
       },
       "selected": [
        1
       ],
       "selected_style": {},
       "tooltip": "IPY_MODEL_29912ca085e04707bac0540edb92c1ab",
       "tooltip_location": "mouse",
       "tooltip_style": {
        "opacity": 0.9
       },
       "unhovered_style": {},
       "unselected_style": {},
       "visible": true,
       "x": {
        "type": "float",
        "values": []
       },
       "y": {
        "type": "float",
        "values": []
       }
      }
     },
     "7668507fa506400fae3f7b39c3fda942": {
      "model_module": "bqplot",
      "model_module_version": "^0.4.1",
      "model_name": "LinearScaleModel",
      "state": {
       "_model_module_version": "^0.4.1",
       "_view_module_version": "^0.4.1",
       "allow_padding": false,
       "max": 1,
       "min": 0,
       "stabilized": false
      }
     },
     "7bc11d2986a945c1aac8363ec09f48ec": {
      "model_module": "bqplot",
      "model_module_version": "^0.4.1",
      "model_name": "FigureModel",
      "state": {
       "_dom_classes": [],
       "_model_module_version": "^0.4.1",
       "_view_module_version": "^0.4.1",
       "layout": "IPY_MODEL_0cef0f9d28024f2f999b4dfefcca249a",
       "marks": [
        "IPY_MODEL_21d110377c814c56ad8a3438be5ebe49"
       ],
       "scale_x": "IPY_MODEL_897feeb76cf74479b609b99f92743bdc",
       "scale_y": "IPY_MODEL_7668507fa506400fae3f7b39c3fda942"
      }
     },
     "897feeb76cf74479b609b99f92743bdc": {
      "model_module": "bqplot",
      "model_module_version": "^0.4.1",
      "model_name": "LinearScaleModel",
      "state": {
       "_model_module_version": "^0.4.1",
       "_view_module_version": "^0.4.1",
       "allow_padding": false,
       "max": 1,
       "min": 0,
       "stabilized": false
      }
     },
     "92722c531a1f48acaed4ebb78b5fc4b5": {
      "model_module": "bqplot",
      "model_module_version": "^0.4.1",
      "model_name": "LinearScaleModel",
      "state": {
       "_model_module_version": "^0.4.1",
       "_view_module_version": "^0.4.1",
       "allow_padding": false,
       "max": 1,
       "min": 0,
       "stabilized": false
      }
     },
     "9e261568eba34b649b75ed394608b401": {
      "model_module": "bqplot",
      "model_module_version": "^0.4.1",
      "model_name": "TooltipModel",
      "state": {
       "_model_module_version": "^0.4.1",
       "_view_module_version": "^0.4.1",
       "fields": [
        "name",
        "movies"
       ],
       "layout": "IPY_MODEL_d1ff5a97281f40188f2fa93142113155"
      }
     },
     "bae392afa1c84101a18e2b42340c9414": {
      "model_module": "bqplot",
      "model_module_version": "^0.4.1",
      "model_name": "FigureModel",
      "state": {
       "_dom_classes": [],
       "_model_module_version": "^0.4.1",
       "_view_module_version": "^0.4.1",
       "layout": "IPY_MODEL_e681af3c7afb49f591edfc33860625f6",
       "marks": [
        "IPY_MODEL_c57cc393f01b43fa88c29f2702e17ff4"
       ],
       "scale_x": "IPY_MODEL_92722c531a1f48acaed4ebb78b5fc4b5",
       "scale_y": "IPY_MODEL_cb5ebd58e1684ad7906ab297f8445fae"
      }
     },
     "bf3a9e1343a5467392afddd65422c3b3": {
      "model_module": "@jupyter-widgets/base",
      "model_module_version": "1.1.0",
      "model_name": "LayoutModel",
      "state": {}
     },
     "c44148289ff04059bad9254588419989": {
      "model_module": "bqplot",
      "model_module_version": "^0.4.1",
      "model_name": "TooltipModel",
      "state": {
       "_model_module_version": "^0.4.1",
       "_view_module_version": "^0.4.1",
       "fields": [
        "name",
        "movies"
       ],
       "layout": "IPY_MODEL_f6d602a4260149d8887781d384d6ca28"
      }
     },
     "c57cc393f01b43fa88c29f2702e17ff4": {
      "model_module": "bqplot",
      "model_module_version": "^0.4.1",
      "model_name": "GraphModel",
      "state": {
       "_model_module": "bqplot",
       "_model_module_version": "^0.4.1",
       "_view_count": null,
       "_view_module": "bqplot",
       "_view_module_version": "^0.4.1",
       "apply_clip": true,
       "charge": -500,
       "color": {
        "type": null,
        "values": null
       },
       "colors": [
        "#1f77b4",
        "#ff7f0e",
        "#2ca02c",
        "#d62728",
        "#9467bd",
        "#8c564b",
        "#e377c2",
        "#7f7f7f",
        "#bcbd22",
        "#17becf"
       ],
       "directed": true,
       "display_legend": false,
       "enable_hover": true,
       "highlight_links": true,
       "hovered_style": {},
       "interactions": {
        "click": "select",
        "hover": "tooltip"
       },
       "labels": [],
       "link_color": {
        "type": "float",
        "values": []
       },
       "link_data": [
        {
         "source": 3,
         "target": 5
        },
        {
         "source": 3,
         "target": 4
        },
        {
         "source": 3,
         "target": 2
        },
        {
         "source": 5,
         "target": 3
        },
        {
         "source": 5,
         "target": 4
        },
        {
         "source": 5,
         "target": 2
        },
        {
         "source": 4,
         "target": 3
        },
        {
         "source": 4,
         "target": 5
        },
        {
         "source": 4,
         "target": 2
        },
        {
         "source": 2,
         "target": 3
        },
        {
         "source": 2,
         "target": 5
        },
        {
         "source": 2,
         "target": 4
        },
        {
         "source": 3,
         "target": 1
        },
        {
         "source": 3,
         "target": 0
        },
        {
         "source": 4,
         "target": 1
        },
        {
         "source": 4,
         "target": 0
        },
        {
         "source": 1,
         "target": 3
        },
        {
         "source": 1,
         "target": 4
        },
        {
         "source": 1,
         "target": 0
        },
        {
         "source": 0,
         "target": 3
        },
        {
         "source": 0,
         "target": 4
        },
        {
         "source": 0,
         "target": 1
        },
        {
         "source": 3,
         "target": 6
        },
        {
         "source": 4,
         "target": 6
        },
        {
         "source": 2,
         "target": 1
        },
        {
         "source": 2,
         "target": 0
        },
        {
         "source": 2,
         "target": 6
        },
        {
         "source": 1,
         "target": 2
        },
        {
         "source": 1,
         "target": 6
        },
        {
         "source": 0,
         "target": 2
        },
        {
         "source": 0,
         "target": 6
        },
        {
         "source": 6,
         "target": 3
        },
        {
         "source": 6,
         "target": 4
        },
        {
         "source": 6,
         "target": 2
        },
        {
         "source": 6,
         "target": 1
        },
        {
         "source": 6,
         "target": 0
        },
        {
         "source": 5,
         "target": 1
        },
        {
         "source": 5,
         "target": 0
        },
        {
         "source": 1,
         "target": 5
        },
        {
         "source": 0,
         "target": 5
        }
       ],
       "link_distance": 250,
       "link_matrix": {
        "type": "float",
        "values": []
       },
       "link_type": "line",
       "node_data": [
        {
         "label": "Boba Fett",
         "label_display": "center",
         "movies": "The Empire Strikes Back, Return of the Jedi, Attack of the Clones",
         "name": "Boba Fett",
         "shape": "circle",
         "shape_attrs": {
          "r": 15
         },
         "value": null
        },
        {
         "label": "Yoda",
         "label_display": "center",
         "movies": "The Empire Strikes Back, Return of the Jedi, The Phantom Menace, Attack of the Clones, Revenge of the Sith",
         "name": "Yoda",
         "shape": "circle",
         "shape_attrs": {
          "r": 15
         },
         "value": null
        },
        {
         "label": "Jabba Desilijic Tiure",
         "label_display": "center",
         "movies": "A New Hope, Return of the Jedi, The Phantom Menace",
         "name": "Jabba Desilijic Tiure",
         "shape": "circle",
         "shape_attrs": {
          "r": 15
         },
         "value": null
        },
        {
         "label": "Darth Vader",
         "label_display": "center",
         "movies": "A New Hope, The Empire Strikes Back, Return of the Jedi, Revenge of the Sith",
         "name": "Darth Vader",
         "shape": "circle",
         "shape_attrs": {
          "r": 15
         },
         "value": null
        },
        {
         "label": "Obi-Wan Kenobi",
         "label_display": "center",
         "movies": "A New Hope, The Empire Strikes Back, Return of the Jedi, The Phantom Menace, Attack of the Clones, Revenge of the Sith",
         "name": "Obi-Wan Kenobi",
         "shape": "circle",
         "shape_attrs": {
          "r": 15
         },
         "value": null
        },
        {
         "label": "Beru Whitesun lars",
         "label_display": "center",
         "movies": "A New Hope, Attack of the Clones, Revenge of the Sith",
         "name": "Beru Whitesun lars",
         "shape": "circle",
         "shape_attrs": {
          "r": 15
         },
         "value": null
        },
        {
         "label": "Mon Mothma",
         "label_display": "center",
         "movies": "Return of the Jedi",
         "name": "Mon Mothma",
         "shape": "circle",
         "shape_attrs": {
          "r": 15
         },
         "value": null
        }
       ],
       "preserve_domain": {},
       "scales": {},
       "scales_metadata": {
        "color": {
         "dimension": "color"
        },
        "link_color": {
         "dimension": "link_color"
        },
        "x": {
         "dimension": "x",
         "orientation": "horizontal"
        },
        "y": {
         "dimension": "y",
         "orientation": "vertical"
        }
       },
       "selected": [
        1
       ],
       "selected_style": {},
       "tooltip": "IPY_MODEL_43ce71e56ef34247b109f3291c5949e4",
       "tooltip_location": "mouse",
       "tooltip_style": {
        "opacity": 0.9
       },
       "unhovered_style": {},
       "unselected_style": {},
       "visible": true,
       "x": {
        "type": "float",
        "values": []
       },
       "y": {
        "type": "float",
        "values": []
       }
      }
     },
     "cb5ebd58e1684ad7906ab297f8445fae": {
      "model_module": "bqplot",
      "model_module_version": "^0.4.1",
      "model_name": "LinearScaleModel",
      "state": {
       "_model_module_version": "^0.4.1",
       "_view_module_version": "^0.4.1",
       "allow_padding": false,
       "max": 1,
       "min": 0,
       "stabilized": false
      }
     },
     "d1ff5a97281f40188f2fa93142113155": {
      "model_module": "@jupyter-widgets/base",
      "model_module_version": "1.1.0",
      "model_name": "LayoutModel",
      "state": {}
     },
     "d249216d17cc480cb76ff0ca1e627bf7": {
      "model_module": "bqplot",
      "model_module_version": "^0.4.1",
      "model_name": "FigureModel",
      "state": {
       "_dom_classes": [],
       "_model_module_version": "^0.4.1",
       "_view_module_version": "^0.4.1",
       "layout": "IPY_MODEL_2a48650e61ee45039098476d359255e3",
       "marks": [
        "IPY_MODEL_2aef0ad6915e4d6b8d2921805c8c5a8c"
       ],
       "scale_x": "IPY_MODEL_2ed2bc160d8543ce95d71c61a4f1aa89",
       "scale_y": "IPY_MODEL_ff85b1629726415bb628c1ad8d3d065b"
      }
     },
     "e681af3c7afb49f591edfc33860625f6": {
      "model_module": "@jupyter-widgets/base",
      "model_module_version": "1.1.0",
      "model_name": "LayoutModel",
      "state": {
       "min_width": "125px"
      }
     },
     "f6d602a4260149d8887781d384d6ca28": {
      "model_module": "@jupyter-widgets/base",
      "model_module_version": "1.1.0",
      "model_name": "LayoutModel",
      "state": {}
     },
     "fa54773df70c4bd8bf690450d26c5f14": {
      "model_module": "bqplot",
      "model_module_version": "^0.4.1",
      "model_name": "LinearScaleModel",
      "state": {
       "_model_module_version": "^0.4.1",
       "_view_module_version": "^0.4.1",
       "allow_padding": false,
       "max": 1,
       "min": 0,
       "stabilized": false
      }
     },
     "fc29df730a0c4ec7ae09245e69152427": {
      "model_module": "@jupyter-widgets/base",
      "model_module_version": "1.1.0",
      "model_name": "LayoutModel",
      "state": {
       "min_width": "125px"
      }
     },
     "ff85b1629726415bb628c1ad8d3d065b": {
      "model_module": "bqplot",
      "model_module_version": "^0.4.1",
      "model_name": "LinearScaleModel",
      "state": {
       "_model_module_version": "^0.4.1",
       "_view_module_version": "^0.4.1",
       "allow_padding": false,
       "max": 1,
       "min": 0,
       "stabilized": false
      }
     }
    },
    "version_major": 2,
    "version_minor": 0
   }
  }
 },
 "nbformat": 4,
 "nbformat_minor": 2
}
