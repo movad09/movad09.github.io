
  {
   "cell_type": "code",
   "execution_count": 1,
   "metadata": {},
   "outputs": [],
   "source": [
    "import numpy as np\n",
    "import json\n",
    "import bqplot"
   ]
  },
  {
   "cell_type": "code",
   "execution_count": 2,
   "metadata": {},
   "outputs": [],
   "source": [
    "characters = json.load(open('shared/sp18-is590dv/data/star_wars/people.json'))"
   ]
  },
  {
   "cell_type": "code",
   "execution_count": 3,
   "metadata": {},
   "outputs": [],
   "source": [
    "chars = [\"Boba Fett\", \"Yoda\", \"Jabba Desilijic Tiure\", \"Darth Vader\", \"Obi-Wan Kenobi\",\n",
    "         \"Beru Whitesun lars\", \"Mon Mothma\"]"
   ]
  },
  {
   "cell_type": "code",
   "execution_count": 4,
   "metadata": {},
   "outputs": [],
   "source": [
    "films = json.load(open(\"shared/sp18-is590dv/data/star_wars/films.json\"))"
   ]
  },
  {
   "cell_type": "code",
   "execution_count": 5,
   "metadata": {},
   "outputs": [],
   "source": [
    "char_input = json.load(open(\"shared/sp18-is590dv/data/star_wars/people.json\"))\n",
    "characters = {}\n",
    "for character in char_input:\n",
    "    characters[character['pk']] = character['fields']"
   ]
  },
  {
   "cell_type": "code",
   "execution_count": 6,
   "metadata": {
    "scrolled": false
   },
   "outputs": [
    {
     "data": {
      "text/plain": [
       "[{'A New Hope': ['Darth Vader',\n",
       "   'Beru Whitesun lars',\n",
       "   'Obi-Wan Kenobi',\n",
       "   'Jabba Desilijic Tiure']},\n",
       " {'The Empire Strikes Back': ['Darth Vader',\n",
       "   'Obi-Wan Kenobi',\n",
       "   'Yoda',\n",
       "   'Boba Fett']},\n",
       " {'Return of the Jedi': ['Darth Vader',\n",
       "   'Obi-Wan Kenobi',\n",
       "   'Jabba Desilijic Tiure',\n",
       "   'Yoda',\n",
       "   'Boba Fett',\n",
       "   'Mon Mothma']},\n",
       " {'The Phantom Menace': ['Obi-Wan Kenobi', 'Jabba Desilijic Tiure', 'Yoda']},\n",
       " {'Attack of the Clones': ['Beru Whitesun lars',\n",
       "   'Obi-Wan Kenobi',\n",
       "   'Yoda',\n",
       "   'Boba Fett']},\n",
       " {'Revenge of the Sith': ['Darth Vader',\n",
       "   'Beru Whitesun lars',\n",
       "   'Obi-Wan Kenobi',\n",
       "   'Yoda']}]"
      ]
     },
     "execution_count": 6,
     "metadata": {},
     "output_type": "execute_result"
    }
   ],
   "source": [
    "film_info = []\n",
    "film_names = []\n",
    "for film in films:\n",
    "    film_in = {}\n",
    "    \n",
    "    film_name = film[\"fields\"][\"title\"]\n",
    "    \n",
    "    char = []\n",
    "    for character in film[\"fields\"][\"characters\"]:\n",
    "        if characters[character][\"name\"] in chars:\n",
    "            char.append(characters[character][\"name\"])\n",
    "    film_in[film_name] = char\n",
    "    film_names.append(film_name)\n",
    "    film_info.append(film_in)\n",
    "film_info\n"
   ]
  },
  {
   "cell_type": "code",
   "execution_count": 7,
   "metadata": {},
   "outputs": [
    {
     "data": {
      "text/plain": [
       "['A New Hope',\n",
       " 'The Empire Strikes Back',\n",
       " 'Return of the Jedi',\n",
       " 'The Phantom Menace',\n",
       " 'Attack of the Clones',\n",
       " 'Revenge of the Sith']"
      ]
     },
     "execution_count": 7,
     "metadata": {},
     "output_type": "execute_result"
    }
   ],
   "source": [
    "film_names"
   ]
  },
  {
   "cell_type": "code",
   "execution_count": 8,
   "metadata": {},
   "outputs": [
    {
     "name": "stdout",
     "output_type": "stream",
     "text": [
      "A New Hope\n",
      "Darth Vader\n",
      "Beru Whitesun lars\n",
      "Obi-Wan Kenobi\n",
      "Jabba Desilijic Tiure\n",
      "\n",
      "The Empire Strikes Back\n",
      "Darth Vader\n",
      "Obi-Wan Kenobi\n",
      "Yoda\n",
      "Boba Fett\n",
      "\n",
      "Return of the Jedi\n",
      "Darth Vader\n",
      "Obi-Wan Kenobi\n",
      "Jabba Desilijic Tiure\n",
      "Yoda\n",
      "Boba Fett\n",
      "Mon Mothma\n",
      "\n",
      "The Phantom Menace\n",
      "Obi-Wan Kenobi\n",
      "Jabba Desilijic Tiure\n",
      "Yoda\n",
      "\n",
      "Attack of the Clones\n",
      "Beru Whitesun lars\n",
      "Obi-Wan Kenobi\n",
      "Yoda\n",
      "Boba Fett\n",
      "\n",
      "Revenge of the Sith\n",
      "Darth Vader\n",
      "Beru Whitesun lars\n",
      "Obi-Wan Kenobi\n",
      "Yoda\n",
      "\n"
     ]
    }
   ],
   "source": [
    "for film in films:\n",
    "    film_chars = film[\"fields\"][\"characters\"]\n",
    "    print(film[\"fields\"][\"title\"])\n",
    "    for character in film_chars:\n",
    "        if characters[character][\"name\"] in chars: print(characters[character][\"name\"])\n",
    "    print()\n",
    "    "
   ]
  },
  {
   "cell_type": "code",
   "execution_count": 9,
   "metadata": {},
   "outputs": [
    {
     "data": {
      "text/plain": [
       "[{'label': 'Boba Fett',\n",
       "  'name': 'Boba Fett',\n",
       "  'movies': 'The Empire Strikes Back, Return of the Jedi, Attack of the Clones',\n",
       "  'shape': 'circle'},\n",
       " {'label': 'Yoda',\n",
       "  'name': 'Yoda',\n",
       "  'movies': 'The Empire Strikes Back, Return of the Jedi, The Phantom Menace, Attack of the Clones, Revenge of the Sith',\n",
       "  'shape': 'circle'},\n",
       " {'label': 'Jabba Desilijic Tiure',\n",
       "  'name': 'Jabba Desilijic Tiure',\n",
       "  'movies': 'A New Hope, Return of the Jedi, The Phantom Menace',\n",
       "  'shape': 'circle'},\n",
       " {'label': 'Darth Vader',\n",
       "  'name': 'Darth Vader',\n",
       "  'movies': 'A New Hope, The Empire Strikes Back, Return of the Jedi, Revenge of the Sith',\n",
       "  'shape': 'circle'},\n",
       " {'label': 'Obi-Wan Kenobi',\n",
       "  'name': 'Obi-Wan Kenobi',\n",
       "  'movies': 'A New Hope, The Empire Strikes Back, Return of the Jedi, The Phantom Menace, Attack of the Clones, Revenge of the Sith',\n",
       "  'shape': 'circle'},\n",
       " {'label': 'Beru Whitesun lars',\n",
       "  'name': 'Beru Whitesun lars',\n",
       "  'movies': 'A New Hope, Attack of the Clones, Revenge of the Sith',\n",
       "  'shape': 'circle'},\n",
       " {'label': 'Mon Mothma',\n",
       "  'name': 'Mon Mothma',\n",
       "  'movies': 'Return of the Jedi',\n",
       "  'shape': 'circle'}]"
      ]
     },
     "execution_count": 9,
     "metadata": {},
     "output_type": "execute_result"
    }
   ],
   "source": [
    "node_data = []\n",
    "for char in chars:\n",
    "    node_char = {}\n",
    "    node_char['label'] = char\n",
    "    node_char['name'] = char\n",
    "    char_films = []\n",
    "    for film_in in film_info:\n",
    "        if char in list(film_in.values())[0]:\n",
    "            char_films.append(list(film_in.keys())[0])\n",
    "    node_char['movies'] = ', '.join(char_films)\n",
    "    node_char['shape'] = 'circle'\n",
    "    node_data.append(node_char)\n",
    "node_data"
   ]
  },
  {
   "cell_type": "code",
   "execution_count": 10,
   "metadata": {},
   "outputs": [
    {
     "data": {
      "text/plain": [
       "'A New Hope'"
      ]
     },
     "execution_count": 10,
     "metadata": {},
     "output_type": "execute_result"
    }
   ],
   "source": [
    "list(film_info[0].keys())[0]"
   ]
  },
  {
   "cell_type": "code",
   "execution_count": 11,
   "metadata": {},
   "outputs": [],
   "source": [
    "link_data = []\n",
    "for film_in in film_info:\n",
    "    char_list = list(film_in.values())[0]\n",
    "    for char in char_list:\n",
    "        for link_char in char_list:\n",
    "            if link_char != char:\n",
    "                link_dict = {}\n",
    "                link_dict['source'] = chars.index(char)\n",
    "                link_dict['target'] = chars.index(link_char)\n",
    "                link_data.append(link_dict)"
   ]
  },
  {
   "cell_type": "code",
   "execution_count": 12,
   "metadata": {},
   "outputs": [
    {
     "data": {
      "text/plain": [
       "[{'source': 3, 'target': 5},\n",
       " {'source': 3, 'target': 4},\n",
       " {'source': 3, 'target': 2},\n",
       " {'source': 5, 'target': 3},\n",
       " {'source': 5, 'target': 4},\n",
       " {'source': 5, 'target': 2},\n",
       " {'source': 4, 'target': 3},\n",
       " {'source': 4, 'target': 5},\n",
       " {'source': 4, 'target': 2},\n",
       " {'source': 2, 'target': 3},\n",
       " {'source': 2, 'target': 5},\n",
       " {'source': 2, 'target': 4},\n",
       " {'source': 3, 'target': 4},\n",
       " {'source': 3, 'target': 1},\n",
       " {'source': 3, 'target': 0},\n",
       " {'source': 4, 'target': 3},\n",
       " {'source': 4, 'target': 1},\n",
       " {'source': 4, 'target': 0},\n",
       " {'source': 1, 'target': 3},\n",
       " {'source': 1, 'target': 4},\n",
       " {'source': 1, 'target': 0},\n",
       " {'source': 0, 'target': 3},\n",
       " {'source': 0, 'target': 4},\n",
       " {'source': 0, 'target': 1},\n",
       " {'source': 3, 'target': 4},\n",
       " {'source': 3, 'target': 2},\n",
       " {'source': 3, 'target': 1},\n",
       " {'source': 3, 'target': 0},\n",
       " {'source': 3, 'target': 6},\n",
       " {'source': 4, 'target': 3},\n",
       " {'source': 4, 'target': 2},\n",
       " {'source': 4, 'target': 1},\n",
       " {'source': 4, 'target': 0},\n",
       " {'source': 4, 'target': 6},\n",
       " {'source': 2, 'target': 3},\n",
       " {'source': 2, 'target': 4},\n",
       " {'source': 2, 'target': 1},\n",
       " {'source': 2, 'target': 0},\n",
       " {'source': 2, 'target': 6},\n",
       " {'source': 1, 'target': 3},\n",
       " {'source': 1, 'target': 4},\n",
       " {'source': 1, 'target': 2},\n",
       " {'source': 1, 'target': 0},\n",
       " {'source': 1, 'target': 6},\n",
       " {'source': 0, 'target': 3},\n",
       " {'source': 0, 'target': 4},\n",
       " {'source': 0, 'target': 2},\n",
       " {'source': 0, 'target': 1},\n",
       " {'source': 0, 'target': 6},\n",
       " {'source': 6, 'target': 3},\n",
       " {'source': 6, 'target': 4},\n",
       " {'source': 6, 'target': 2},\n",
       " {'source': 6, 'target': 1},\n",
       " {'source': 6, 'target': 0},\n",
       " {'source': 4, 'target': 2},\n",
       " {'source': 4, 'target': 1},\n",
       " {'source': 2, 'target': 4},\n",
       " {'source': 2, 'target': 1},\n",
       " {'source': 1, 'target': 4},\n",
       " {'source': 1, 'target': 2},\n",
       " {'source': 5, 'target': 4},\n",
       " {'source': 5, 'target': 1},\n",
       " {'source': 5, 'target': 0},\n",
       " {'source': 4, 'target': 5},\n",
       " {'source': 4, 'target': 1},\n",
       " {'source': 4, 'target': 0},\n",
       " {'source': 1, 'target': 5},\n",
       " {'source': 1, 'target': 4},\n",
       " {'source': 1, 'target': 0},\n",
       " {'source': 0, 'target': 5},\n",
       " {'source': 0, 'target': 4},\n",
       " {'source': 0, 'target': 1},\n",
       " {'source': 3, 'target': 5},\n",
       " {'source': 3, 'target': 4},\n",
       " {'source': 3, 'target': 1},\n",
       " {'source': 5, 'target': 3},\n",
       " {'source': 5, 'target': 4},\n",
       " {'source': 5, 'target': 1},\n",
       " {'source': 4, 'target': 3},\n",
       " {'source': 4, 'target': 5},\n",
       " {'source': 4, 'target': 1},\n",
       " {'source': 1, 'target': 3},\n",
       " {'source': 1, 'target': 5},\n",
       " {'source': 1, 'target': 4}]"
      ]
     },
     "execution_count": 12,
     "metadata": {},
     "output_type": "execute_result"
    }
   ],
   "source": [
    "link_data"
   ]
  },
  {
   "cell_type": "code",
   "execution_count": 13,
   "metadata": {},
   "outputs": [
    {
     "data": {
      "text/plain": [
       "[{'source': 3, 'target': 5},\n",
       " {'source': 3, 'target': 4},\n",
       " {'source': 3, 'target': 2},\n",
       " {'source': 5, 'target': 3},\n",
       " {'source': 5, 'target': 4},\n",
       " {'source': 5, 'target': 2},\n",
       " {'source': 4, 'target': 3},\n",
       " {'source': 4, 'target': 5},\n",
       " {'source': 4, 'target': 2},\n",
       " {'source': 2, 'target': 3},\n",
       " {'source': 2, 'target': 5},\n",
       " {'source': 2, 'target': 4},\n",
       " {'source': 3, 'target': 1},\n",
       " {'source': 3, 'target': 0},\n",
       " {'source': 4, 'target': 1},\n",
       " {'source': 4, 'target': 0},\n",
       " {'source': 1, 'target': 3},\n",
       " {'source': 1, 'target': 4},\n",
       " {'source': 1, 'target': 0},\n",
       " {'source': 0, 'target': 3},\n",
       " {'source': 0, 'target': 4},\n",
       " {'source': 0, 'target': 1},\n",
       " {'source': 3, 'target': 6},\n",
       " {'source': 4, 'target': 6},\n",
       " {'source': 2, 'target': 1},\n",
       " {'source': 2, 'target': 0},\n",
       " {'source': 2, 'target': 6},\n",
       " {'source': 1, 'target': 2},\n",
       " {'source': 1, 'target': 6},\n",
       " {'source': 0, 'target': 2},\n",
       " {'source': 0, 'target': 6},\n",
       " {'source': 6, 'target': 3},\n",
       " {'source': 6, 'target': 4},\n",
       " {'source': 6, 'target': 2},\n",
       " {'source': 6, 'target': 1},\n",
       " {'source': 6, 'target': 0},\n",
       " {'source': 5, 'target': 1},\n",
       " {'source': 5, 'target': 0},\n",
       " {'source': 1, 'target': 5},\n",
       " {'source': 0, 'target': 5}]"
      ]
     },
     "execution_count": 13,
     "metadata": {},
     "output_type": "execute_result"
    }
   ],
   "source": [
    "link_data1 = []\n",
    "for link in link_data:\n",
    "    if link not in link_data1:\n",
    "        link_data1.append(link)\n",
    "link_data = link_data1\n",
    "link_data"
   ]
  },
  {
   "cell_type": "code",
   "execution_count": 14,
   "metadata": {},
   "outputs": [
    {
     "data": {
      "application/vnd.jupyter.widget-view+json": {
       "model_id": "675c5d6039e24e40bb7245962bbed02e",
       "version_major": 2,
       "version_minor": 0
      },
      "text/plain": [
       "Figure(fig_margin={'top': 60, 'bottom': 60, 'left': 60, 'right': 60}, layout=Layout(min_width='125px'), marks=…"
      ]
     },
     "metadata": {},
     "output_type": "display_data"
    }
   ],
   "source": [
    "tooltip = bqplot.Tooltip(fields=[\"name\",'movies'])\n",
    "\n",
    "graph = bqplot.Graph(node_data=node_data, link_data=link_data, tooltip = tooltip, link_type = 'line', link_distance = 250,charge= -500)\n",
    "\n",
    "fig = bqplot.Figure(marks = [graph])\n",
    "display(fig)"
   ]
  },
  {
   "cell_type": "code",
   "execution_count": null,
   "metadata": {},
   "outputs": [],
   "source": []
  }
 ],
 "metadata": {
  "kernelspec": {
   "display_name": "Environment (conda_is590dv-default)",
   "language": "python",
   "name": "conda_is590dv-default"
  },
  "language_info": {
   "codemirror_mode": {
    "name": "ipython",
    "version": 3
   },
   "file_extension": ".py",
   "mimetype": "text/x-python",
   "name": "python",
   "nbconvert_exporter": "python",
   "pygments_lexer": "ipython3",
   "version": "3.6.6"
  }
 },
 "nbformat": 4,
 "nbformat_minor": 2
}
